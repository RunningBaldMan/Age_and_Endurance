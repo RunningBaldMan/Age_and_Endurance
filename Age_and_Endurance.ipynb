{
 "cells": [
  {
   "cell_type": "markdown",
   "id": "e04969cb",
   "metadata": {},
   "source": [
    "To activate virtual environment  type in terminal source env/bin/activate\n",
    "To exit type deactivate"
   ]
  },
  {
   "cell_type": "markdown",
   "id": "1a48b328",
   "metadata": {},
   "source": [
    "3 Graphs\n",
    "- Age by year\n",
    "- Male vs female age\n",
    "- Age by each marathon\n",
    "- Age for 2019 Indy Monumental\n",
    "\n",
    "2nd data frame contains ultra marathons\n",
    "- distance and age\n",
    "- age by country"
   ]
  },
  {
   "cell_type": "markdown",
   "id": "c8d8a509",
   "metadata": {},
   "source": [
    "Open your notebook (.ipynb).\n",
    "Click the kernel picker (top right of the notebook).\n",
    "Choose venv as the kernel - it will be under Python Environments\n",
    "\n",
    "Is this a different .ipynb?"
   ]
  },
  {
   "cell_type": "markdown",
   "id": "4c693c1e",
   "metadata": {},
   "source": [
    "Origninal csv too big, 109.7+ MB, for git hub. Had to reduce size. Made csv 2015-2019.\n",
    "Original dataset at https://www.kaggle.com/datasets/runningwithrock/2010-2019-fall-marathons\n",
    "\n",
    "Code to reduce size \n",
    "----\n",
    "marathon_df = marathon_df[marathon_df['Year'] >= 2015]\n",
    "\n",
    "-------\n",
    "2nd data frane The big dataset of ultra-marathon running\n",
    "https://www.kaggle.com/datasets/aiaiaidavid/the-big-dataset-of-ultra-marathon-running/data\n",
    "\n",
    "Will need size reduced"
   ]
  },
  {
   "cell_type": "markdown",
   "id": "7d36f002",
   "metadata": {},
   "source": [
    "I have heard there there is a larger percentage of older adults, 50+, that engage in Ulta Endurance sports. Using the marathon as the basis race, compare the age difference btwn the different distances. (Marathon, 50k, 50m, 100k, 100m, and anything over grouped together.)"
   ]
  },
  {
   "cell_type": "code",
   "execution_count": 268,
   "id": "438fbe73",
   "metadata": {},
   "outputs": [],
   "source": [
    "import zipfile\n",
    "import pandas as pd\n",
    "import matplotlib.pyplot as plt\n",
    "import seaborn as sns\n"
   ]
  },
  {
   "cell_type": "code",
   "execution_count": 269,
   "id": "ef84a942",
   "metadata": {},
   "outputs": [],
   "source": [
    "# To run this cell need to download full df\n",
    "\n",
    "# marathon_df = pd.read_csv(\"/Users/justinmasters/Downloads/Results.csv\")\n",
    "# marathon_df.head()"
   ]
  },
  {
   "cell_type": "code",
   "execution_count": 270,
   "id": "ae200b33",
   "metadata": {},
   "outputs": [],
   "source": [
    "# marathon_df.shape"
   ]
  },
  {
   "cell_type": "code",
   "execution_count": 271,
   "id": "cbcf3089",
   "metadata": {},
   "outputs": [],
   "source": [
    "# marathon_df.info()"
   ]
  },
  {
   "cell_type": "markdown",
   "id": "94174a08",
   "metadata": {},
   "source": [
    "The above df is too large to push to GitHub. Needs reduced"
   ]
  },
  {
   "cell_type": "code",
   "execution_count": 272,
   "id": "373b66cf",
   "metadata": {},
   "outputs": [],
   "source": [
    "# To drop years prior to 2015\n",
    "\n",
    "# marathon_df = marathon_df[marathon_df['Year'] >= 2016]"
   ]
  },
  {
   "cell_type": "code",
   "execution_count": 273,
   "id": "9d58efbf",
   "metadata": {},
   "outputs": [],
   "source": [
    "# verify reduced rows. Previously 2053366\n",
    "\n",
    "# marathon_df.shape"
   ]
  },
  {
   "cell_type": "code",
   "execution_count": 274,
   "id": "3357772e",
   "metadata": {},
   "outputs": [],
   "source": [
    "# Previous file size 109.7+ MB\n",
    "\n",
    "# marathon_df.info()"
   ]
  },
  {
   "cell_type": "code",
   "execution_count": 275,
   "id": "d41dd7a1",
   "metadata": {},
   "outputs": [],
   "source": [
    "# marathon_df.head()"
   ]
  },
  {
   "cell_type": "code",
   "execution_count": 276,
   "id": "26dba1de",
   "metadata": {},
   "outputs": [],
   "source": [
    "# marathon_df.tail()"
   ]
  },
  {
   "cell_type": "markdown",
   "id": "64be839a",
   "metadata": {},
   "source": [
    "Appears as if data frame is sorted by race and not year"
   ]
  },
  {
   "cell_type": "code",
   "execution_count": 277,
   "id": "966fd499",
   "metadata": {},
   "outputs": [],
   "source": [
    "# Create new csv with reduced df\n",
    "\n",
    "# marathon_df.to_csv('Results2.csv', index=False)"
   ]
  },
  {
   "cell_type": "code",
   "execution_count": 278,
   "id": "4429a7d8",
   "metadata": {},
   "outputs": [
    {
     "data": {
      "text/html": [
       "<div>\n",
       "<style scoped>\n",
       "    .dataframe tbody tr th:only-of-type {\n",
       "        vertical-align: middle;\n",
       "    }\n",
       "\n",
       "    .dataframe tbody tr th {\n",
       "        vertical-align: top;\n",
       "    }\n",
       "\n",
       "    .dataframe thead th {\n",
       "        text-align: right;\n",
       "    }\n",
       "</style>\n",
       "<table border=\"1\" class=\"dataframe\">\n",
       "  <thead>\n",
       "    <tr style=\"text-align: right;\">\n",
       "      <th></th>\n",
       "      <th>Race</th>\n",
       "      <th>Year</th>\n",
       "      <th>Name</th>\n",
       "      <th>Sex</th>\n",
       "      <th>Age</th>\n",
       "      <th>Finish</th>\n",
       "      <th>Age Bracket</th>\n",
       "    </tr>\n",
       "  </thead>\n",
       "  <tbody>\n",
       "    <tr>\n",
       "      <th>0</th>\n",
       "      <td>Richmond Marathon</td>\n",
       "      <td>2019</td>\n",
       "      <td>DAWN STADNYK</td>\n",
       "      <td>Female</td>\n",
       "      <td>43</td>\n",
       "      <td>12847</td>\n",
       "      <td>40-44</td>\n",
       "    </tr>\n",
       "    <tr>\n",
       "      <th>1</th>\n",
       "      <td>Richmond Marathon</td>\n",
       "      <td>2019</td>\n",
       "      <td>ANDREW MARTIN</td>\n",
       "      <td>Male</td>\n",
       "      <td>27</td>\n",
       "      <td>12812</td>\n",
       "      <td>Under 35</td>\n",
       "    </tr>\n",
       "    <tr>\n",
       "      <th>2</th>\n",
       "      <td>Richmond Marathon</td>\n",
       "      <td>2019</td>\n",
       "      <td>CAROL BRAUN</td>\n",
       "      <td>Female</td>\n",
       "      <td>56</td>\n",
       "      <td>12844</td>\n",
       "      <td>55-59</td>\n",
       "    </tr>\n",
       "    <tr>\n",
       "      <th>3</th>\n",
       "      <td>Richmond Marathon</td>\n",
       "      <td>2019</td>\n",
       "      <td>PETER EMERSON</td>\n",
       "      <td>Male</td>\n",
       "      <td>29</td>\n",
       "      <td>12816</td>\n",
       "      <td>Under 35</td>\n",
       "    </tr>\n",
       "    <tr>\n",
       "      <th>4</th>\n",
       "      <td>Richmond Marathon</td>\n",
       "      <td>2019</td>\n",
       "      <td>JACOB BARKER</td>\n",
       "      <td>Male</td>\n",
       "      <td>18</td>\n",
       "      <td>12831</td>\n",
       "      <td>Under 35</td>\n",
       "    </tr>\n",
       "  </tbody>\n",
       "</table>\n",
       "</div>"
      ],
      "text/plain": [
       "                Race  Year           Name     Sex  Age  Finish Age Bracket\n",
       "0  Richmond Marathon  2019   DAWN STADNYK  Female   43   12847       40-44\n",
       "1  Richmond Marathon  2019  ANDREW MARTIN    Male   27   12812    Under 35\n",
       "2  Richmond Marathon  2019    CAROL BRAUN  Female   56   12844       55-59\n",
       "3  Richmond Marathon  2019  PETER EMERSON    Male   29   12816    Under 35\n",
       "4  Richmond Marathon  2019   JACOB BARKER    Male   18   12831    Under 35"
      ]
     },
     "execution_count": 278,
     "metadata": {},
     "output_type": "execute_result"
    }
   ],
   "source": [
    "# Import new csv\n",
    "\n",
    "marathon_df = pd.read_csv(\"Data/Results3.csv\")\n",
    "marathon_df.head()"
   ]
  },
  {
   "cell_type": "code",
   "execution_count": 279,
   "id": "ef76a808",
   "metadata": {},
   "outputs": [
    {
     "data": {
      "text/plain": [
       "Race           0\n",
       "Year           0\n",
       "Name           0\n",
       "Sex            0\n",
       "Age            0\n",
       "Finish         0\n",
       "Age Bracket    0\n",
       "dtype: int64"
      ]
     },
     "execution_count": 279,
     "metadata": {},
     "output_type": "execute_result"
    }
   ],
   "source": [
    "# Check null values\n",
    "\n",
    "marathon_df.isnull().sum()\n"
   ]
  },
  {
   "cell_type": "code",
   "execution_count": 280,
   "id": "6a9ac54d",
   "metadata": {},
   "outputs": [],
   "source": [
    "# Nulls are in gender. Possiblly non gender specific runnersl. Convert nulls to NA\n",
    "\n",
    "# marathon_df.fillna('NA')"
   ]
  },
  {
   "cell_type": "code",
   "execution_count": 281,
   "id": "39c9ca61",
   "metadata": {},
   "outputs": [
    {
     "data": {
      "text/html": [
       "<div>\n",
       "<style scoped>\n",
       "    .dataframe tbody tr th:only-of-type {\n",
       "        vertical-align: middle;\n",
       "    }\n",
       "\n",
       "    .dataframe tbody tr th {\n",
       "        vertical-align: top;\n",
       "    }\n",
       "\n",
       "    .dataframe thead th {\n",
       "        text-align: right;\n",
       "    }\n",
       "</style>\n",
       "<table border=\"1\" class=\"dataframe\">\n",
       "  <thead>\n",
       "    <tr style=\"text-align: right;\">\n",
       "      <th></th>\n",
       "      <th>Race</th>\n",
       "      <th>Year</th>\n",
       "      <th>Name</th>\n",
       "      <th>Sex</th>\n",
       "      <th>Age</th>\n",
       "      <th>Finish</th>\n",
       "      <th>Age Bracket</th>\n",
       "    </tr>\n",
       "  </thead>\n",
       "  <tbody>\n",
       "  </tbody>\n",
       "</table>\n",
       "</div>"
      ],
      "text/plain": [
       "Empty DataFrame\n",
       "Columns: [Race, Year, Name, Sex, Age, Finish, Age Bracket]\n",
       "Index: []"
      ]
     },
     "execution_count": 281,
     "metadata": {},
     "output_type": "execute_result"
    }
   ],
   "source": [
    "# Show rows will nulls\n",
    "\n",
    "marathon_df[marathon_df.isnull().any(axis=1)]"
   ]
  },
  {
   "cell_type": "code",
   "execution_count": 282,
   "id": "63b857bb",
   "metadata": {},
   "outputs": [
    {
     "data": {
      "text/html": [
       "<div>\n",
       "<style scoped>\n",
       "    .dataframe tbody tr th:only-of-type {\n",
       "        vertical-align: middle;\n",
       "    }\n",
       "\n",
       "    .dataframe tbody tr th {\n",
       "        vertical-align: top;\n",
       "    }\n",
       "\n",
       "    .dataframe thead th {\n",
       "        text-align: right;\n",
       "    }\n",
       "</style>\n",
       "<table border=\"1\" class=\"dataframe\">\n",
       "  <thead>\n",
       "    <tr style=\"text-align: right;\">\n",
       "      <th></th>\n",
       "      <th>Race</th>\n",
       "      <th>Year</th>\n",
       "      <th>Name</th>\n",
       "      <th>Sex</th>\n",
       "      <th>Age</th>\n",
       "      <th>Finish</th>\n",
       "      <th>Age Bracket</th>\n",
       "    </tr>\n",
       "  </thead>\n",
       "  <tbody>\n",
       "    <tr>\n",
       "      <th>0</th>\n",
       "      <td>Richmond Marathon</td>\n",
       "      <td>2019</td>\n",
       "      <td>DAWN STADNYK</td>\n",
       "      <td>Female</td>\n",
       "      <td>43</td>\n",
       "      <td>12847</td>\n",
       "      <td>40-44</td>\n",
       "    </tr>\n",
       "    <tr>\n",
       "      <th>1</th>\n",
       "      <td>Richmond Marathon</td>\n",
       "      <td>2019</td>\n",
       "      <td>ANDREW MARTIN</td>\n",
       "      <td>Male</td>\n",
       "      <td>27</td>\n",
       "      <td>12812</td>\n",
       "      <td>Under 35</td>\n",
       "    </tr>\n",
       "    <tr>\n",
       "      <th>2</th>\n",
       "      <td>Richmond Marathon</td>\n",
       "      <td>2019</td>\n",
       "      <td>CAROL BRAUN</td>\n",
       "      <td>Female</td>\n",
       "      <td>56</td>\n",
       "      <td>12844</td>\n",
       "      <td>55-59</td>\n",
       "    </tr>\n",
       "    <tr>\n",
       "      <th>3</th>\n",
       "      <td>Richmond Marathon</td>\n",
       "      <td>2019</td>\n",
       "      <td>PETER EMERSON</td>\n",
       "      <td>Male</td>\n",
       "      <td>29</td>\n",
       "      <td>12816</td>\n",
       "      <td>Under 35</td>\n",
       "    </tr>\n",
       "    <tr>\n",
       "      <th>4</th>\n",
       "      <td>Richmond Marathon</td>\n",
       "      <td>2019</td>\n",
       "      <td>JACOB BARKER</td>\n",
       "      <td>Male</td>\n",
       "      <td>18</td>\n",
       "      <td>12831</td>\n",
       "      <td>Under 35</td>\n",
       "    </tr>\n",
       "    <tr>\n",
       "      <th>...</th>\n",
       "      <td>...</td>\n",
       "      <td>...</td>\n",
       "      <td>...</td>\n",
       "      <td>...</td>\n",
       "      <td>...</td>\n",
       "      <td>...</td>\n",
       "      <td>...</td>\n",
       "    </tr>\n",
       "    <tr>\n",
       "      <th>762651</th>\n",
       "      <td>Marine Corps Marathon</td>\n",
       "      <td>2019</td>\n",
       "      <td>Daryl Young</td>\n",
       "      <td>Male</td>\n",
       "      <td>39</td>\n",
       "      <td>18575</td>\n",
       "      <td>35-39</td>\n",
       "    </tr>\n",
       "    <tr>\n",
       "      <th>762652</th>\n",
       "      <td>Marine Corps Marathon</td>\n",
       "      <td>2019</td>\n",
       "      <td>Ella Biggins</td>\n",
       "      <td>Female</td>\n",
       "      <td>24</td>\n",
       "      <td>18575</td>\n",
       "      <td>Under 35</td>\n",
       "    </tr>\n",
       "    <tr>\n",
       "      <th>762653</th>\n",
       "      <td>Marine Corps Marathon</td>\n",
       "      <td>2019</td>\n",
       "      <td>Kevin Klym</td>\n",
       "      <td>Male</td>\n",
       "      <td>44</td>\n",
       "      <td>18575</td>\n",
       "      <td>40-44</td>\n",
       "    </tr>\n",
       "    <tr>\n",
       "      <th>762654</th>\n",
       "      <td>Marine Corps Marathon</td>\n",
       "      <td>2019</td>\n",
       "      <td>Casey A Shapiro</td>\n",
       "      <td>Female</td>\n",
       "      <td>34</td>\n",
       "      <td>18578</td>\n",
       "      <td>Under 35</td>\n",
       "    </tr>\n",
       "    <tr>\n",
       "      <th>762655</th>\n",
       "      <td>Marine Corps Marathon</td>\n",
       "      <td>2019</td>\n",
       "      <td>Zhaowei Liu</td>\n",
       "      <td>Male</td>\n",
       "      <td>64</td>\n",
       "      <td>18578</td>\n",
       "      <td>60-64</td>\n",
       "    </tr>\n",
       "  </tbody>\n",
       "</table>\n",
       "<p>762656 rows × 7 columns</p>\n",
       "</div>"
      ],
      "text/plain": [
       "                         Race  Year             Name     Sex  Age  Finish  \\\n",
       "0           Richmond Marathon  2019     DAWN STADNYK  Female   43   12847   \n",
       "1           Richmond Marathon  2019    ANDREW MARTIN    Male   27   12812   \n",
       "2           Richmond Marathon  2019      CAROL BRAUN  Female   56   12844   \n",
       "3           Richmond Marathon  2019    PETER EMERSON    Male   29   12816   \n",
       "4           Richmond Marathon  2019     JACOB BARKER    Male   18   12831   \n",
       "...                       ...   ...              ...     ...  ...     ...   \n",
       "762651  Marine Corps Marathon  2019      Daryl Young    Male   39   18575   \n",
       "762652  Marine Corps Marathon  2019     Ella Biggins  Female   24   18575   \n",
       "762653  Marine Corps Marathon  2019       Kevin Klym    Male   44   18575   \n",
       "762654  Marine Corps Marathon  2019  Casey A Shapiro  Female   34   18578   \n",
       "762655  Marine Corps Marathon  2019      Zhaowei Liu    Male   64   18578   \n",
       "\n",
       "       Age Bracket  \n",
       "0            40-44  \n",
       "1         Under 35  \n",
       "2            55-59  \n",
       "3         Under 35  \n",
       "4         Under 35  \n",
       "...            ...  \n",
       "762651       35-39  \n",
       "762652    Under 35  \n",
       "762653       40-44  \n",
       "762654    Under 35  \n",
       "762655       60-64  \n",
       "\n",
       "[762656 rows x 7 columns]"
      ]
     },
     "execution_count": 282,
     "metadata": {},
     "output_type": "execute_result"
    }
   ],
   "source": [
    "# Only 5 entries with null values. Not a material portion. Drop rows with NaN\n",
    "\n",
    "marathon_df = marathon_df.dropna()\n",
    "marathon_df"
   ]
  },
  {
   "cell_type": "code",
   "execution_count": 283,
   "id": "7fe545ad",
   "metadata": {},
   "outputs": [
    {
     "data": {
      "text/plain": [
       "Age\n",
       "19    3579\n",
       "18    1003\n",
       "17     574\n",
       "16     346\n",
       "15     139\n",
       "Name: count, dtype: int64"
      ]
     },
     "execution_count": 283,
     "metadata": {},
     "output_type": "execute_result"
    }
   ],
   "source": [
    "# show youngest ages \n",
    "\n",
    "marathon_df[marathon_df['Age'] < 20].value_counts('Age')\n"
   ]
  },
  {
   "cell_type": "code",
   "execution_count": 284,
   "id": "7ee8c7d2",
   "metadata": {},
   "outputs": [
    {
     "data": {
      "text/plain": [
       "Age\n",
       "116    1\n",
       "Name: count, dtype: int64"
      ]
     },
     "execution_count": 284,
     "metadata": {},
     "output_type": "execute_result"
    }
   ],
   "source": [
    "# show oldest ages \n",
    "\n",
    "marathon_df[marathon_df['Age'] > 100].value_counts('Age')"
   ]
  },
  {
   "cell_type": "code",
   "execution_count": 285,
   "id": "022d4982",
   "metadata": {},
   "outputs": [],
   "source": [
    "# remove invalid ages\n",
    "\n",
    "marathon_df = marathon_df[marathon_df['Age'] >= 15]"
   ]
  },
  {
   "cell_type": "code",
   "execution_count": 286,
   "id": "2ebef411",
   "metadata": {},
   "outputs": [
    {
     "data": {
      "text/html": [
       "<div>\n",
       "<style scoped>\n",
       "    .dataframe tbody tr th:only-of-type {\n",
       "        vertical-align: middle;\n",
       "    }\n",
       "\n",
       "    .dataframe tbody tr th {\n",
       "        vertical-align: top;\n",
       "    }\n",
       "\n",
       "    .dataframe thead th {\n",
       "        text-align: right;\n",
       "    }\n",
       "</style>\n",
       "<table border=\"1\" class=\"dataframe\">\n",
       "  <thead>\n",
       "    <tr style=\"text-align: right;\">\n",
       "      <th></th>\n",
       "      <th>Race</th>\n",
       "      <th>Year</th>\n",
       "      <th>Name</th>\n",
       "      <th>Sex</th>\n",
       "      <th>Age</th>\n",
       "      <th>Finish</th>\n",
       "      <th>Age Bracket</th>\n",
       "    </tr>\n",
       "  </thead>\n",
       "  <tbody>\n",
       "  </tbody>\n",
       "</table>\n",
       "</div>"
      ],
      "text/plain": [
       "Empty DataFrame\n",
       "Columns: [Race, Year, Name, Sex, Age, Finish, Age Bracket]\n",
       "Index: []"
      ]
     },
     "execution_count": 286,
     "metadata": {},
     "output_type": "execute_result"
    }
   ],
   "source": [
    "marathon_df[marathon_df.isnull().any(axis=1)]"
   ]
  },
  {
   "cell_type": "code",
   "execution_count": 287,
   "id": "04d41b22",
   "metadata": {},
   "outputs": [
    {
     "data": {
      "text/plain": [
       "(762656, 7)"
      ]
     },
     "execution_count": 287,
     "metadata": {},
     "output_type": "execute_result"
    }
   ],
   "source": [
    "marathon_df.shape"
   ]
  },
  {
   "cell_type": "markdown",
   "id": "62a4b148",
   "metadata": {},
   "source": [
    "Previously 991522 rows. Now has 991517"
   ]
  },
  {
   "cell_type": "code",
   "execution_count": 288,
   "id": "809e59d1",
   "metadata": {},
   "outputs": [
    {
     "data": {
      "text/plain": [
       "0         False\n",
       "1         False\n",
       "2         False\n",
       "3         False\n",
       "4         False\n",
       "          ...  \n",
       "762651    False\n",
       "762652    False\n",
       "762653    False\n",
       "762654    False\n",
       "762655    False\n",
       "Length: 762656, dtype: bool"
      ]
     },
     "execution_count": 288,
     "metadata": {},
     "output_type": "execute_result"
    }
   ],
   "source": [
    "# Check if there are any duplicates\n",
    "\n",
    "marathon_df.duplicated()"
   ]
  },
  {
   "cell_type": "code",
   "execution_count": 289,
   "id": "8bc5f3ac",
   "metadata": {},
   "outputs": [
    {
     "name": "stdout",
     "output_type": "stream",
     "text": [
      "<class 'pandas.core.frame.DataFrame'>\n",
      "RangeIndex: 762656 entries, 0 to 762655\n",
      "Data columns (total 7 columns):\n",
      " #   Column       Non-Null Count   Dtype \n",
      "---  ------       --------------   ----- \n",
      " 0   Race         762656 non-null  object\n",
      " 1   Year         762656 non-null  int64 \n",
      " 2   Name         762656 non-null  object\n",
      " 3   Sex          762656 non-null  object\n",
      " 4   Age          762656 non-null  int64 \n",
      " 5   Finish       762656 non-null  int64 \n",
      " 6   Age Bracket  762656 non-null  object\n",
      "dtypes: int64(3), object(4)\n",
      "memory usage: 40.7+ MB\n"
     ]
    }
   ],
   "source": [
    "# Rename Gender column to Sex\n",
    "\n",
    "marathon_df.rename(columns={'Gender': 'Sex'}, inplace=True)\n",
    "marathon_df.info()"
   ]
  },
  {
   "cell_type": "code",
   "execution_count": 290,
   "id": "3606ec7d",
   "metadata": {},
   "outputs": [
    {
     "data": {
      "text/html": [
       "<div>\n",
       "<style scoped>\n",
       "    .dataframe tbody tr th:only-of-type {\n",
       "        vertical-align: middle;\n",
       "    }\n",
       "\n",
       "    .dataframe tbody tr th {\n",
       "        vertical-align: top;\n",
       "    }\n",
       "\n",
       "    .dataframe thead th {\n",
       "        text-align: right;\n",
       "    }\n",
       "</style>\n",
       "<table border=\"1\" class=\"dataframe\">\n",
       "  <thead>\n",
       "    <tr style=\"text-align: right;\">\n",
       "      <th></th>\n",
       "      <th>Race</th>\n",
       "      <th>Year</th>\n",
       "      <th>Name</th>\n",
       "      <th>Sex</th>\n",
       "      <th>Age</th>\n",
       "      <th>Finish</th>\n",
       "      <th>Age Bracket</th>\n",
       "    </tr>\n",
       "  </thead>\n",
       "  <tbody>\n",
       "    <tr>\n",
       "      <th>0</th>\n",
       "      <td>Richmond Marathon</td>\n",
       "      <td>2019</td>\n",
       "      <td>DAWN STADNYK</td>\n",
       "      <td>Female</td>\n",
       "      <td>43</td>\n",
       "      <td>12847</td>\n",
       "      <td>40-44</td>\n",
       "    </tr>\n",
       "    <tr>\n",
       "      <th>1</th>\n",
       "      <td>Richmond Marathon</td>\n",
       "      <td>2019</td>\n",
       "      <td>ANDREW MARTIN</td>\n",
       "      <td>Male</td>\n",
       "      <td>27</td>\n",
       "      <td>12812</td>\n",
       "      <td>Under 35</td>\n",
       "    </tr>\n",
       "    <tr>\n",
       "      <th>2</th>\n",
       "      <td>Richmond Marathon</td>\n",
       "      <td>2019</td>\n",
       "      <td>CAROL BRAUN</td>\n",
       "      <td>Female</td>\n",
       "      <td>56</td>\n",
       "      <td>12844</td>\n",
       "      <td>55-59</td>\n",
       "    </tr>\n",
       "    <tr>\n",
       "      <th>3</th>\n",
       "      <td>Richmond Marathon</td>\n",
       "      <td>2019</td>\n",
       "      <td>PETER EMERSON</td>\n",
       "      <td>Male</td>\n",
       "      <td>29</td>\n",
       "      <td>12816</td>\n",
       "      <td>Under 35</td>\n",
       "    </tr>\n",
       "    <tr>\n",
       "      <th>4</th>\n",
       "      <td>Richmond Marathon</td>\n",
       "      <td>2019</td>\n",
       "      <td>JACOB BARKER</td>\n",
       "      <td>Male</td>\n",
       "      <td>18</td>\n",
       "      <td>12831</td>\n",
       "      <td>Under 35</td>\n",
       "    </tr>\n",
       "    <tr>\n",
       "      <th>...</th>\n",
       "      <td>...</td>\n",
       "      <td>...</td>\n",
       "      <td>...</td>\n",
       "      <td>...</td>\n",
       "      <td>...</td>\n",
       "      <td>...</td>\n",
       "      <td>...</td>\n",
       "    </tr>\n",
       "    <tr>\n",
       "      <th>762651</th>\n",
       "      <td>Marine Corps Marathon</td>\n",
       "      <td>2019</td>\n",
       "      <td>Daryl Young</td>\n",
       "      <td>Male</td>\n",
       "      <td>39</td>\n",
       "      <td>18575</td>\n",
       "      <td>35-39</td>\n",
       "    </tr>\n",
       "    <tr>\n",
       "      <th>762652</th>\n",
       "      <td>Marine Corps Marathon</td>\n",
       "      <td>2019</td>\n",
       "      <td>Ella Biggins</td>\n",
       "      <td>Female</td>\n",
       "      <td>24</td>\n",
       "      <td>18575</td>\n",
       "      <td>Under 35</td>\n",
       "    </tr>\n",
       "    <tr>\n",
       "      <th>762653</th>\n",
       "      <td>Marine Corps Marathon</td>\n",
       "      <td>2019</td>\n",
       "      <td>Kevin Klym</td>\n",
       "      <td>Male</td>\n",
       "      <td>44</td>\n",
       "      <td>18575</td>\n",
       "      <td>40-44</td>\n",
       "    </tr>\n",
       "    <tr>\n",
       "      <th>762654</th>\n",
       "      <td>Marine Corps Marathon</td>\n",
       "      <td>2019</td>\n",
       "      <td>Casey A Shapiro</td>\n",
       "      <td>Female</td>\n",
       "      <td>34</td>\n",
       "      <td>18578</td>\n",
       "      <td>Under 35</td>\n",
       "    </tr>\n",
       "    <tr>\n",
       "      <th>762655</th>\n",
       "      <td>Marine Corps Marathon</td>\n",
       "      <td>2019</td>\n",
       "      <td>Zhaowei Liu</td>\n",
       "      <td>Male</td>\n",
       "      <td>64</td>\n",
       "      <td>18578</td>\n",
       "      <td>60-64</td>\n",
       "    </tr>\n",
       "  </tbody>\n",
       "</table>\n",
       "<p>762656 rows × 7 columns</p>\n",
       "</div>"
      ],
      "text/plain": [
       "                         Race  Year             Name     Sex  Age  Finish  \\\n",
       "0           Richmond Marathon  2019     DAWN STADNYK  Female   43   12847   \n",
       "1           Richmond Marathon  2019    ANDREW MARTIN    Male   27   12812   \n",
       "2           Richmond Marathon  2019      CAROL BRAUN  Female   56   12844   \n",
       "3           Richmond Marathon  2019    PETER EMERSON    Male   29   12816   \n",
       "4           Richmond Marathon  2019     JACOB BARKER    Male   18   12831   \n",
       "...                       ...   ...              ...     ...  ...     ...   \n",
       "762651  Marine Corps Marathon  2019      Daryl Young    Male   39   18575   \n",
       "762652  Marine Corps Marathon  2019     Ella Biggins  Female   24   18575   \n",
       "762653  Marine Corps Marathon  2019       Kevin Klym    Male   44   18575   \n",
       "762654  Marine Corps Marathon  2019  Casey A Shapiro  Female   34   18578   \n",
       "762655  Marine Corps Marathon  2019      Zhaowei Liu    Male   64   18578   \n",
       "\n",
       "       Age Bracket  \n",
       "0            40-44  \n",
       "1         Under 35  \n",
       "2            55-59  \n",
       "3         Under 35  \n",
       "4         Under 35  \n",
       "...            ...  \n",
       "762651       35-39  \n",
       "762652    Under 35  \n",
       "762653       40-44  \n",
       "762654    Under 35  \n",
       "762655       60-64  \n",
       "\n",
       "[762656 rows x 7 columns]"
      ]
     },
     "execution_count": 290,
     "metadata": {},
     "output_type": "execute_result"
    }
   ],
   "source": [
    "# Assign Male and Female to M and F\n",
    "\n",
    "marathon_df['Sex'] = marathon_df[\"Sex\"].replace(['M', 'F'], ['Male', 'Female'])\n",
    "marathon_df"
   ]
  },
  {
   "cell_type": "code",
   "execution_count": 291,
   "id": "01be90a9",
   "metadata": {},
   "outputs": [
    {
     "data": {
      "text/plain": [
       "Sex\n",
       "Female    38\n",
       "Male      42\n",
       "Name: Age, dtype: int64"
      ]
     },
     "execution_count": 291,
     "metadata": {},
     "output_type": "execute_result"
    }
   ],
   "source": [
    "# group by sex and calculate the average total age\n",
    "\n",
    "avg_age_by_sex = marathon_df.groupby(\"Sex\")[\"Age\"].mean().astype(int)\n",
    "avg_age_by_sex"
   ]
  },
  {
   "cell_type": "markdown",
   "id": "be8ccbb1",
   "metadata": {},
   "source": [
    "Finding the average age by sex. Is there a significant difference?"
   ]
  },
  {
   "cell_type": "code",
   "execution_count": 292,
   "id": "1faea827",
   "metadata": {},
   "outputs": [
    {
     "data": {
      "image/png": "[encoded data removed]",
      "text/plain": [
       "<Figure size 800x800 with 1 Axes>"
      ]
     },
     "metadata": {},
     "output_type": "display_data"
    }
   ],
   "source": [
    "\n",
    "plt.figure(figsize=(8,8))\n",
    "plt.pie(\n",
    "    avg_age_by_sex,\n",
    "    labels=None,\n",
    "    startangle=110,\n",
    "    colors=[\"#aa109b\", \"blue\"],\n",
    "    autopct=\"%1.1f%%\",\n",
    "    textprops={'color': \"white\"})\n",
    "\n",
    "plt.title(\"Average Age of Women vs Men in Fall Marathons (2016-2019)\")\n",
    "\n",
    "plt.legend(\n",
    "    labels = avg_age_by_sex.index, \n",
    "    loc=\"lower right\",\n",
    "    title = \"Sex\"\n",
    ")\n",
    "\n",
    "\n",
    "plt.show()"
   ]
  },
  {
   "cell_type": "code",
   "execution_count": 293,
   "id": "097cd9cc",
   "metadata": {},
   "outputs": [
    {
     "data": {
      "text/plain": [
       "array(['Richmond Marathon', 'Columbus Marathon', 'Wineglass Marathon',\n",
       "       'Lakefront Marathon', 'Fox Cities Marathon', 'Madison Marathon',\n",
       "       'Air Force Marathon', 'Atlantic City Marathon',\n",
       "       'Cape Cod Marathon', 'Steamtown Marathon', 'Seattle Marathon',\n",
       "       'Grand Rapids Marathon', 'Detroit International Marathon',\n",
       "       'Hartford Marathon', 'Space Coast Marathon',\n",
       "       'Twin Cities Marathon', 'REVEL Canyon City Marathon',\n",
       "       'Maine Marathon', 'Portland Oregon Marathon',\n",
       "       'Kansas City Marathon', 'Des Moines Marathon',\n",
       "       'Long Beach Marathon', 'Erie Marathon at Presque Isle',\n",
       "       'St. George Marathon', 'Indianapolis Monumental Marathon',\n",
       "       'Route 66 Marathon', 'The Tunnel Lite Marathon',\n",
       "       'Mohawk-Hudson River Marathon', 'Baystate Marathon',\n",
       "       'Moab Trail Marathon', 'Mount Desert Island marathon',\n",
       "       'Akron Marathon', 'Via Marathon',\n",
       "       'Milwaukee Running Festival Marathon', 'Omaha Marathon',\n",
       "       'VENTURA MARATHON', 'Equinox Marathon', 'Baltimore Marathon',\n",
       "       'City of Oaks Marathon', \"Charlotte's Thunder Road Marathon\",\n",
       "       'Big Cottonwood Marathon', 'Portland Marathon',\n",
       "       'Harrisburg Marathon', 'RnR Savannah Marathon',\n",
       "       'REVEL Big Bear and Half Marathon', 'PORTLANDATHON',\n",
       "       'RnR Las Vegas Marathon', 'Naperville Marathon',\n",
       "       'Fox Valley Marathon', 'OBX Marathon', 'Brooklyn Marathon',\n",
       "       'Mo Cowbell Marathon', 'Chicago Marathon', 'NYC Marathon',\n",
       "       'Philadelphia Marathon', 'Marine Corps Marathon'], dtype=object)"
      ]
     },
     "execution_count": 293,
     "metadata": {},
     "output_type": "execute_result"
    }
   ],
   "source": [
    "# determine what races are included\n",
    "\n",
    "marathon_df['Race'].unique()"
   ]
  },
  {
   "cell_type": "code",
   "execution_count": 294,
   "id": "113fd577",
   "metadata": {},
   "outputs": [
    {
     "data": {
      "text/plain": [
       "Race\n",
       "Air Force Marathon                     42\n",
       "Akron Marathon                         40\n",
       "Atlantic City Marathon                 41\n",
       "Baltimore Marathon                     38\n",
       "Baystate Marathon                      39\n",
       "Big Cottonwood Marathon                40\n",
       "Brooklyn Marathon                      35\n",
       "Cape Cod Marathon                      39\n",
       "Charlotte's Thunder Road Marathon      38\n",
       "Chicago Marathon                       41\n",
       "City of Oaks Marathon                  37\n",
       "Columbus Marathon                      37\n",
       "Des Moines Marathon                    40\n",
       "Detroit International Marathon         39\n",
       "Equinox Marathon                       41\n",
       "Erie Marathon at Presque Isle          42\n",
       "Fox Cities Marathon                    42\n",
       "Fox Valley Marathon                    42\n",
       "Grand Rapids Marathon                  40\n",
       "Harrisburg Marathon                    42\n",
       "Hartford Marathon                      40\n",
       "Indianapolis Monumental Marathon       41\n",
       "Kansas City Marathon                   39\n",
       "Lakefront Marathon                     39\n",
       "Long Beach Marathon                    41\n",
       "Madison Marathon                       37\n",
       "Maine Marathon                         39\n",
       "Marine Corps Marathon                  41\n",
       "Milwaukee Running Festival Marathon    39\n",
       "Mo Cowbell Marathon                    39\n",
       "Moab Trail Marathon                    40\n",
       "Mohawk-Hudson River Marathon           41\n",
       "Mount Desert Island marathon           40\n",
       "NYC Marathon                           41\n",
       "Naperville Marathon                    41\n",
       "OBX Marathon                           41\n",
       "Omaha Marathon                         40\n",
       "PORTLANDATHON                          41\n",
       "Philadelphia Marathon                  37\n",
       "Portland Marathon                      39\n",
       "Portland Oregon Marathon               39\n",
       "REVEL Big Bear and Half Marathon       46\n",
       "REVEL Canyon City Marathon             43\n",
       "Richmond Marathon                      39\n",
       "RnR Las Vegas Marathon                 41\n",
       "RnR Savannah Marathon                  41\n",
       "Route 66 Marathon                      42\n",
       "Seattle Marathon                       39\n",
       "Space Coast Marathon                   43\n",
       "St. George Marathon                    41\n",
       "Steamtown Marathon                     41\n",
       "The Tunnel Lite Marathon               46\n",
       "Twin Cities Marathon                   37\n",
       "VENTURA MARATHON                       40\n",
       "Via Marathon                           41\n",
       "Wineglass Marathon                     41\n",
       "Name: Age, dtype: int64"
      ]
     },
     "execution_count": 294,
     "metadata": {},
     "output_type": "execute_result"
    }
   ],
   "source": [
    "# group by race and calculate average age\n",
    "\n",
    "avg_age_by_race = marathon_df.groupby(\"Race\")[\"Age\"].mean().astype(int)\n",
    "avg_age_by_race"
   ]
  },
  {
   "cell_type": "markdown",
   "id": "1d62060d",
   "metadata": {},
   "source": [
    "I ran a horizontal bar char and the number of races made it unreadable. Split into 3rds "
   ]
  },
  {
   "cell_type": "code",
   "execution_count": 295,
   "id": "7cc7ac8e",
   "metadata": {},
   "outputs": [
    {
     "data": {
      "text/plain": [
       "56"
      ]
     },
     "execution_count": 295,
     "metadata": {},
     "output_type": "execute_result"
    }
   ],
   "source": [
    "# Find number of unique races\n",
    "\n",
    "total_unique_races = (marathon_df['Race'].nunique())\n",
    "total_unique_races"
   ]
  },
  {
   "cell_type": "code",
   "execution_count": 296,
   "id": "31a67274",
   "metadata": {},
   "outputs": [
    {
     "data": {
      "text/plain": [
       "18"
      ]
     },
     "execution_count": 296,
     "metadata": {},
     "output_type": "execute_result"
    }
   ],
   "source": [
    "# Determine the size of each third\n",
    "\n",
    "third_of_races_int = total_unique_races // 3\n",
    "third_of_races_int\n"
   ]
  },
  {
   "cell_type": "code",
   "execution_count": 297,
   "id": "a3551bfc",
   "metadata": {},
   "outputs": [],
   "source": [
    "# Get all diff race names \n",
    "\n",
    "unique_races = sorted(marathon_df['Race'].unique())\n",
    "\n",
    "# Calculate how many races per third\n",
    "\n",
    "third_of_races_int = len(unique_races) // 3  \n",
    "\n",
    "# Divide the race names into thirds\n",
    "\n",
    "races_first_third = unique_races[:third_of_races_int]\n",
    "races_second_third = unique_races[third_of_races_int:2 * third_of_races_int]\n",
    "races_final_third = unique_races[2 * third_of_races_int:]\n",
    "\n",
    "# Filter based on race name\n",
    "\n",
    "marathon_df_first_third = marathon_df[marathon_df['Race'].isin(races_first_third)]\n",
    "marathon_df_second_third = marathon_df[marathon_df['Race'].isin(races_second_third)]\n",
    "marathon_df_final_third = marathon_df[marathon_df['Race'].isin(races_final_third)]\n"
   ]
  },
  {
   "cell_type": "code",
   "execution_count": 298,
   "id": "cc10fd48",
   "metadata": {},
   "outputs": [
    {
     "data": {
      "text/html": [
       "<div>\n",
       "<style scoped>\n",
       "    .dataframe tbody tr th:only-of-type {\n",
       "        vertical-align: middle;\n",
       "    }\n",
       "\n",
       "    .dataframe tbody tr th {\n",
       "        vertical-align: top;\n",
       "    }\n",
       "\n",
       "    .dataframe thead th {\n",
       "        text-align: right;\n",
       "    }\n",
       "</style>\n",
       "<table border=\"1\" class=\"dataframe\">\n",
       "  <thead>\n",
       "    <tr style=\"text-align: right;\">\n",
       "      <th></th>\n",
       "      <th>Race</th>\n",
       "      <th>Year</th>\n",
       "      <th>Name</th>\n",
       "      <th>Sex</th>\n",
       "      <th>Age</th>\n",
       "      <th>Finish</th>\n",
       "      <th>Age Bracket</th>\n",
       "    </tr>\n",
       "  </thead>\n",
       "  <tbody>\n",
       "    <tr>\n",
       "      <th>200</th>\n",
       "      <td>Columbus Marathon</td>\n",
       "      <td>2018</td>\n",
       "      <td>Elijah Rugut</td>\n",
       "      <td>Male</td>\n",
       "      <td>29</td>\n",
       "      <td>8566</td>\n",
       "      <td>Under 35</td>\n",
       "    </tr>\n",
       "    <tr>\n",
       "      <th>201</th>\n",
       "      <td>Columbus Marathon</td>\n",
       "      <td>2018</td>\n",
       "      <td>Josh Ordway</td>\n",
       "      <td>Male</td>\n",
       "      <td>38</td>\n",
       "      <td>8612</td>\n",
       "      <td>35-39</td>\n",
       "    </tr>\n",
       "    <tr>\n",
       "      <th>202</th>\n",
       "      <td>Columbus Marathon</td>\n",
       "      <td>2018</td>\n",
       "      <td>Brent Martin</td>\n",
       "      <td>Male</td>\n",
       "      <td>34</td>\n",
       "      <td>8659</td>\n",
       "      <td>Under 35</td>\n",
       "    </tr>\n",
       "    <tr>\n",
       "      <th>203</th>\n",
       "      <td>Columbus Marathon</td>\n",
       "      <td>2018</td>\n",
       "      <td>Luke Hickman</td>\n",
       "      <td>Male</td>\n",
       "      <td>25</td>\n",
       "      <td>8694</td>\n",
       "      <td>Under 35</td>\n",
       "    </tr>\n",
       "    <tr>\n",
       "      <th>204</th>\n",
       "      <td>Columbus Marathon</td>\n",
       "      <td>2018</td>\n",
       "      <td>Fan Zhou</td>\n",
       "      <td>Male</td>\n",
       "      <td>30</td>\n",
       "      <td>8744</td>\n",
       "      <td>Under 35</td>\n",
       "    </tr>\n",
       "  </tbody>\n",
       "</table>\n",
       "</div>"
      ],
      "text/plain": [
       "                  Race  Year          Name   Sex  Age  Finish Age Bracket\n",
       "200  Columbus Marathon  2018  Elijah Rugut  Male   29    8566    Under 35\n",
       "201  Columbus Marathon  2018   Josh Ordway  Male   38    8612       35-39\n",
       "202  Columbus Marathon  2018  Brent Martin  Male   34    8659    Under 35\n",
       "203  Columbus Marathon  2018  Luke Hickman  Male   25    8694    Under 35\n",
       "204  Columbus Marathon  2018      Fan Zhou  Male   30    8744    Under 35"
      ]
     },
     "execution_count": 298,
     "metadata": {},
     "output_type": "execute_result"
    }
   ],
   "source": [
    "# Verify splits and check each is different\n",
    "\n",
    "marathon_df_first_third.head()"
   ]
  },
  {
   "cell_type": "code",
   "execution_count": 299,
   "id": "d0abdadb",
   "metadata": {},
   "outputs": [
    {
     "data": {
      "text/html": [
       "<div>\n",
       "<style scoped>\n",
       "    .dataframe tbody tr th:only-of-type {\n",
       "        vertical-align: middle;\n",
       "    }\n",
       "\n",
       "    .dataframe tbody tr th {\n",
       "        vertical-align: top;\n",
       "    }\n",
       "\n",
       "    .dataframe thead th {\n",
       "        text-align: right;\n",
       "    }\n",
       "</style>\n",
       "<table border=\"1\" class=\"dataframe\">\n",
       "  <thead>\n",
       "    <tr style=\"text-align: right;\">\n",
       "      <th></th>\n",
       "      <th>Race</th>\n",
       "      <th>Year</th>\n",
       "      <th>Name</th>\n",
       "      <th>Sex</th>\n",
       "      <th>Age</th>\n",
       "      <th>Finish</th>\n",
       "      <th>Age Bracket</th>\n",
       "    </tr>\n",
       "  </thead>\n",
       "  <tbody>\n",
       "    <tr>\n",
       "      <th>400</th>\n",
       "      <td>Lakefront Marathon</td>\n",
       "      <td>2017</td>\n",
       "      <td>KATHERINE ALFT</td>\n",
       "      <td>Female</td>\n",
       "      <td>35</td>\n",
       "      <td>13899</td>\n",
       "      <td>35-39</td>\n",
       "    </tr>\n",
       "    <tr>\n",
       "      <th>401</th>\n",
       "      <td>Lakefront Marathon</td>\n",
       "      <td>2017</td>\n",
       "      <td>JACLYN MORELL</td>\n",
       "      <td>Female</td>\n",
       "      <td>23</td>\n",
       "      <td>13901</td>\n",
       "      <td>Under 35</td>\n",
       "    </tr>\n",
       "    <tr>\n",
       "      <th>402</th>\n",
       "      <td>Lakefront Marathon</td>\n",
       "      <td>2017</td>\n",
       "      <td>LYNDSAY SMANZ</td>\n",
       "      <td>Female</td>\n",
       "      <td>35</td>\n",
       "      <td>13902</td>\n",
       "      <td>35-39</td>\n",
       "    </tr>\n",
       "    <tr>\n",
       "      <th>403</th>\n",
       "      <td>Lakefront Marathon</td>\n",
       "      <td>2017</td>\n",
       "      <td>RICHARD IMMESBERGER</td>\n",
       "      <td>Male</td>\n",
       "      <td>52</td>\n",
       "      <td>13904</td>\n",
       "      <td>50-54</td>\n",
       "    </tr>\n",
       "    <tr>\n",
       "      <th>404</th>\n",
       "      <td>Lakefront Marathon</td>\n",
       "      <td>2017</td>\n",
       "      <td>PAUL SIVANICH</td>\n",
       "      <td>Male</td>\n",
       "      <td>65</td>\n",
       "      <td>13904</td>\n",
       "      <td>65-69</td>\n",
       "    </tr>\n",
       "  </tbody>\n",
       "</table>\n",
       "</div>"
      ],
      "text/plain": [
       "                   Race  Year                 Name     Sex  Age  Finish  \\\n",
       "400  Lakefront Marathon  2017       KATHERINE ALFT  Female   35   13899   \n",
       "401  Lakefront Marathon  2017        JACLYN MORELL  Female   23   13901   \n",
       "402  Lakefront Marathon  2017        LYNDSAY SMANZ  Female   35   13902   \n",
       "403  Lakefront Marathon  2017  RICHARD IMMESBERGER    Male   52   13904   \n",
       "404  Lakefront Marathon  2017        PAUL SIVANICH    Male   65   13904   \n",
       "\n",
       "    Age Bracket  \n",
       "400       35-39  \n",
       "401    Under 35  \n",
       "402       35-39  \n",
       "403       50-54  \n",
       "404       65-69  "
      ]
     },
     "execution_count": 299,
     "metadata": {},
     "output_type": "execute_result"
    }
   ],
   "source": [
    "marathon_df_second_third.head()"
   ]
  },
  {
   "cell_type": "code",
   "execution_count": 300,
   "id": "ae013c87",
   "metadata": {},
   "outputs": [
    {
     "data": {
      "text/html": [
       "<div>\n",
       "<style scoped>\n",
       "    .dataframe tbody tr th:only-of-type {\n",
       "        vertical-align: middle;\n",
       "    }\n",
       "\n",
       "    .dataframe tbody tr th {\n",
       "        vertical-align: top;\n",
       "    }\n",
       "\n",
       "    .dataframe thead th {\n",
       "        text-align: right;\n",
       "    }\n",
       "</style>\n",
       "<table border=\"1\" class=\"dataframe\">\n",
       "  <thead>\n",
       "    <tr style=\"text-align: right;\">\n",
       "      <th></th>\n",
       "      <th>Race</th>\n",
       "      <th>Year</th>\n",
       "      <th>Name</th>\n",
       "      <th>Sex</th>\n",
       "      <th>Age</th>\n",
       "      <th>Finish</th>\n",
       "      <th>Age Bracket</th>\n",
       "    </tr>\n",
       "  </thead>\n",
       "  <tbody>\n",
       "    <tr>\n",
       "      <th>0</th>\n",
       "      <td>Richmond Marathon</td>\n",
       "      <td>2019</td>\n",
       "      <td>DAWN STADNYK</td>\n",
       "      <td>Female</td>\n",
       "      <td>43</td>\n",
       "      <td>12847</td>\n",
       "      <td>40-44</td>\n",
       "    </tr>\n",
       "    <tr>\n",
       "      <th>1</th>\n",
       "      <td>Richmond Marathon</td>\n",
       "      <td>2019</td>\n",
       "      <td>ANDREW MARTIN</td>\n",
       "      <td>Male</td>\n",
       "      <td>27</td>\n",
       "      <td>12812</td>\n",
       "      <td>Under 35</td>\n",
       "    </tr>\n",
       "    <tr>\n",
       "      <th>2</th>\n",
       "      <td>Richmond Marathon</td>\n",
       "      <td>2019</td>\n",
       "      <td>CAROL BRAUN</td>\n",
       "      <td>Female</td>\n",
       "      <td>56</td>\n",
       "      <td>12844</td>\n",
       "      <td>55-59</td>\n",
       "    </tr>\n",
       "    <tr>\n",
       "      <th>3</th>\n",
       "      <td>Richmond Marathon</td>\n",
       "      <td>2019</td>\n",
       "      <td>PETER EMERSON</td>\n",
       "      <td>Male</td>\n",
       "      <td>29</td>\n",
       "      <td>12816</td>\n",
       "      <td>Under 35</td>\n",
       "    </tr>\n",
       "    <tr>\n",
       "      <th>4</th>\n",
       "      <td>Richmond Marathon</td>\n",
       "      <td>2019</td>\n",
       "      <td>JACOB BARKER</td>\n",
       "      <td>Male</td>\n",
       "      <td>18</td>\n",
       "      <td>12831</td>\n",
       "      <td>Under 35</td>\n",
       "    </tr>\n",
       "  </tbody>\n",
       "</table>\n",
       "</div>"
      ],
      "text/plain": [
       "                Race  Year           Name     Sex  Age  Finish Age Bracket\n",
       "0  Richmond Marathon  2019   DAWN STADNYK  Female   43   12847       40-44\n",
       "1  Richmond Marathon  2019  ANDREW MARTIN    Male   27   12812    Under 35\n",
       "2  Richmond Marathon  2019    CAROL BRAUN  Female   56   12844       55-59\n",
       "3  Richmond Marathon  2019  PETER EMERSON    Male   29   12816    Under 35\n",
       "4  Richmond Marathon  2019   JACOB BARKER    Male   18   12831    Under 35"
      ]
     },
     "execution_count": 300,
     "metadata": {},
     "output_type": "execute_result"
    }
   ],
   "source": [
    "marathon_df_final_third.head()"
   ]
  },
  {
   "cell_type": "markdown",
   "id": "a681a127",
   "metadata": {},
   "source": [
    "Finding the average age of the fist third of marathons and call out youngest "
   ]
  },
  {
   "cell_type": "code",
   "execution_count": 301,
   "id": "9591530c",
   "metadata": {},
   "outputs": [
    {
     "data": {
      "text/plain": [
       "Race\n",
       "Air Force Marathon                   42\n",
       "Akron Marathon                       40\n",
       "Atlantic City Marathon               41\n",
       "Baltimore Marathon                   38\n",
       "Baystate Marathon                    39\n",
       "Big Cottonwood Marathon              40\n",
       "Brooklyn Marathon                    35\n",
       "Cape Cod Marathon                    39\n",
       "Charlotte's Thunder Road Marathon    38\n",
       "Chicago Marathon                     41\n",
       "City of Oaks Marathon                37\n",
       "Columbus Marathon                    37\n",
       "Des Moines Marathon                  40\n",
       "Detroit International Marathon       39\n",
       "Equinox Marathon                     41\n",
       "Erie Marathon at Presque Isle        42\n",
       "Fox Cities Marathon                  42\n",
       "Fox Valley Marathon                  42\n",
       "Name: Age, dtype: int64"
      ]
     },
     "execution_count": 301,
     "metadata": {},
     "output_type": "execute_result"
    }
   ],
   "source": [
    "# get average age of first third\n",
    "\n",
    "avg_age_by_first_third = marathon_df_first_third.groupby(\"Race\")[\"Age\"].mean().astype(int)\n",
    "avg_age_by_first_third"
   ]
  },
  {
   "cell_type": "markdown",
   "id": "30bcb398",
   "metadata": {},
   "source": [
    "Based off of the above info, there are no outliers in the oldest average age"
   ]
  },
  {
   "cell_type": "code",
   "execution_count": 302,
   "id": "7767af21",
   "metadata": {},
   "outputs": [
    {
     "data": {
      "image/png": "[encoded data removed]",
      "text/plain": [
       "<Figure size 640x480 with 1 Axes>"
      ]
     },
     "metadata": {},
     "output_type": "display_data"
    }
   ],
   "source": [
    "# plot the first third average age by race\n",
    "\n",
    "bar = plt.barh(avg_age_by_first_third.index, avg_age_by_first_third.values)\n",
    "bar[6].set_color('r')\n",
    "\n",
    "ax = plt.gca()\n",
    "ax.spines['top'].set_visible(False)\n",
    "ax.spines['right'].set_visible(False)\n",
    "\n",
    "plt.xlabel(\"Avg Age\")\n",
    "plt.ylabel(\"Race Name\")\n",
    "plt.title(\"Average Total Age by Race in Fall Marathon Data from 2016 - 2019\")\n",
    "plt.xticks(rotation=45, ha =\"right\")\n",
    "\n",
    "\n",
    "plt.tight_layout()\n",
    "plt.show()"
   ]
  },
  {
   "cell_type": "markdown",
   "id": "976f88e6",
   "metadata": {},
   "source": [
    "Finding the average age of the second third of marathons and call out any abnormalities.\n",
    "Testing a line graph to see if it is a better visualization"
   ]
  },
  {
   "cell_type": "code",
   "execution_count": 303,
   "id": "b85e8a4e",
   "metadata": {},
   "outputs": [
    {
     "data": {
      "text/plain": [
       "Race\n",
       "Grand Rapids Marathon                  40\n",
       "Harrisburg Marathon                    42\n",
       "Hartford Marathon                      40\n",
       "Indianapolis Monumental Marathon       41\n",
       "Kansas City Marathon                   39\n",
       "Lakefront Marathon                     39\n",
       "Long Beach Marathon                    41\n",
       "Madison Marathon                       37\n",
       "Maine Marathon                         39\n",
       "Marine Corps Marathon                  41\n",
       "Milwaukee Running Festival Marathon    39\n",
       "Mo Cowbell Marathon                    39\n",
       "Moab Trail Marathon                    40\n",
       "Mohawk-Hudson River Marathon           41\n",
       "Mount Desert Island marathon           40\n",
       "NYC Marathon                           41\n",
       "Naperville Marathon                    41\n",
       "OBX Marathon                           41\n",
       "Name: Age, dtype: int64"
      ]
     },
     "execution_count": 303,
     "metadata": {},
     "output_type": "execute_result"
    }
   ],
   "source": [
    "# get average age of second third\n",
    "\n",
    "avg_age_by_second_third = marathon_df_second_third.groupby(\"Race\")[\"Age\"].mean().astype(int)\n",
    "avg_age_by_second_third"
   ]
  },
  {
   "cell_type": "code",
   "execution_count": 304,
   "id": "9c8847b3",
   "metadata": {},
   "outputs": [
    {
     "data": {
      "image/png": "[encoded data removed]",
      "text/plain": [
       "<Figure size 1200x600 with 1 Axes>"
      ]
     },
     "metadata": {},
     "output_type": "display_data"
    }
   ],
   "source": [
    "# Get the race(s) with the youngest avg age and plot the final second average age by race \n",
    "\n",
    "youngest_race = avg_age_by_second_third.idxmin()\n",
    "youngest_age = avg_age_by_second_third.min()\n",
    "\n",
    "plt.figure(figsize=(12, 6))\n",
    "plt.plot(\n",
    "    avg_age_by_second_third.index, \n",
    "    avg_age_by_second_third.values,\n",
    "    marker=\"+\",\n",
    "    linestyle = \"--\",\n",
    "    color = \"#036b16\",\n",
    "    linewidth = 0.5)\n",
    "\n",
    "plt.xlabel(\"Race Name\")\n",
    "plt.ylabel(\"Avg Age\")\n",
    "plt.title(\"Average Total Age by Race in Fall Marathon Data from 2016 - 2019\", fontsize = 18, pad=20)\n",
    "plt.xticks(rotation=45, ha =\"right\")\n",
    "\n",
    "ax = plt.gca()\n",
    "ax.spines[\"top\"].set_visible(False)\n",
    "ax.spines[\"right\"].set_visible(False)\n",
    "\n",
    "\n",
    "plt.tight_layout()\n",
    "\n",
    "plt.ylim(35, 50)\n",
    "plt.show()"
   ]
  },
  {
   "cell_type": "markdown",
   "id": "fb802004",
   "metadata": {},
   "source": [
    "Finding the average age of the final third of marathons and call out youngest and oldest\n",
    "Was not impressed with the line graph, will change for final"
   ]
  },
  {
   "cell_type": "code",
   "execution_count": 305,
   "id": "f36af5ff",
   "metadata": {},
   "outputs": [
    {
     "data": {
      "text/plain": [
       "Race\n",
       "Omaha Marathon                      40\n",
       "PORTLANDATHON                       41\n",
       "Philadelphia Marathon               37\n",
       "Portland Marathon                   39\n",
       "Portland Oregon Marathon            39\n",
       "REVEL Big Bear and Half Marathon    46\n",
       "REVEL Canyon City Marathon          43\n",
       "Richmond Marathon                   39\n",
       "RnR Las Vegas Marathon              41\n",
       "RnR Savannah Marathon               41\n",
       "Route 66 Marathon                   42\n",
       "Seattle Marathon                    39\n",
       "Space Coast Marathon                43\n",
       "St. George Marathon                 41\n",
       "Steamtown Marathon                  41\n",
       "The Tunnel Lite Marathon            46\n",
       "Twin Cities Marathon                37\n",
       "VENTURA MARATHON                    40\n",
       "Via Marathon                        41\n",
       "Wineglass Marathon                  41\n",
       "Name: Age, dtype: int64"
      ]
     },
     "execution_count": 305,
     "metadata": {},
     "output_type": "execute_result"
    }
   ],
   "source": [
    "# get average age of final third\n",
    "\n",
    "avg_age_by_final_third = marathon_df_final_third.groupby(\"Race\")[\"Age\"].mean().astype(int)\n",
    "avg_age_by_final_third"
   ]
  },
  {
   "cell_type": "code",
   "execution_count": 306,
   "id": "a760faa4",
   "metadata": {},
   "outputs": [
    {
     "data": {
      "image/png": "[encoded data removed]",
      "text/plain": [
       "<Figure size 640x480 with 1 Axes>"
      ]
     },
     "metadata": {},
     "output_type": "display_data"
    }
   ],
   "source": [
    "bar = plt.barh(avg_age_by_final_third.index, avg_age_by_final_third.values)\n",
    "bar[3].set_color('r')\n",
    "bar[5].set_color('black')\n",
    "\n",
    "ax = plt.gca()\n",
    "ax.spines['top'].set_visible(False)\n",
    "ax.spines['right'].set_visible(False)\n",
    "\n",
    "plt.xlabel(\"Avg Age\")\n",
    "plt.ylabel(\"Race Name\")\n",
    "plt.title(\"Average Total Age by Race in Fall Marathon Data from 2016 - 2019\")\n",
    "plt.xticks(rotation=45, ha =\"right\")\n",
    "\n",
    "\n",
    "plt.tight_layout()\n",
    "plt.show()"
   ]
  },
  {
   "cell_type": "markdown",
   "id": "9fdde221",
   "metadata": {},
   "source": [
    "Finding the average age by year to see if there was a stand out year for marathons for youngest and oldest"
   ]
  },
  {
   "cell_type": "code",
   "execution_count": 307,
   "id": "5c50eac4",
   "metadata": {},
   "outputs": [
    {
     "data": {
      "text/html": [
       "<div>\n",
       "<style scoped>\n",
       "    .dataframe tbody tr th:only-of-type {\n",
       "        vertical-align: middle;\n",
       "    }\n",
       "\n",
       "    .dataframe tbody tr th {\n",
       "        vertical-align: top;\n",
       "    }\n",
       "\n",
       "    .dataframe thead th {\n",
       "        text-align: right;\n",
       "    }\n",
       "</style>\n",
       "<table border=\"1\" class=\"dataframe\">\n",
       "  <thead>\n",
       "    <tr style=\"text-align: right;\">\n",
       "      <th></th>\n",
       "      <th>Year</th>\n",
       "      <th>Average Age</th>\n",
       "      <th>Youngest Age</th>\n",
       "      <th>Oldest Age</th>\n",
       "    </tr>\n",
       "  </thead>\n",
       "  <tbody>\n",
       "    <tr>\n",
       "      <th>0</th>\n",
       "      <td>2016</td>\n",
       "      <td>40.358593</td>\n",
       "      <td>15</td>\n",
       "      <td>116</td>\n",
       "    </tr>\n",
       "    <tr>\n",
       "      <th>1</th>\n",
       "      <td>2017</td>\n",
       "      <td>40.551069</td>\n",
       "      <td>15</td>\n",
       "      <td>99</td>\n",
       "    </tr>\n",
       "    <tr>\n",
       "      <th>2</th>\n",
       "      <td>2018</td>\n",
       "      <td>40.833645</td>\n",
       "      <td>15</td>\n",
       "      <td>99</td>\n",
       "    </tr>\n",
       "    <tr>\n",
       "      <th>3</th>\n",
       "      <td>2019</td>\n",
       "      <td>41.044031</td>\n",
       "      <td>15</td>\n",
       "      <td>99</td>\n",
       "    </tr>\n",
       "  </tbody>\n",
       "</table>\n",
       "</div>"
      ],
      "text/plain": [
       "   Year  Average Age  Youngest Age  Oldest Age\n",
       "0  2016    40.358593            15         116\n",
       "1  2017    40.551069            15          99\n",
       "2  2018    40.833645            15          99\n",
       "3  2019    41.044031            15          99"
      ]
     },
     "execution_count": 307,
     "metadata": {},
     "output_type": "execute_result"
    }
   ],
   "source": [
    "# find average, yougest, and oldest by year\n",
    "\n",
    "youngest_and_oldest_by_year = marathon_df.groupby('Year')['Age'].agg(['mean', 'min', 'max']).reset_index()\n",
    "youngest_and_oldest_by_year.columns = ['Year', 'Average Age', 'Youngest Age', 'Oldest Age']\n",
    "youngest_and_oldest_by_year\n"
   ]
  },
  {
   "cell_type": "code",
   "execution_count": 308,
   "id": "59616277",
   "metadata": {},
   "outputs": [
    {
     "data": {
      "image/png": "[encoded data removed]",
      "text/plain": [
       "<Figure size 640x480 with 1 Axes>"
      ]
     },
     "metadata": {},
     "output_type": "display_data"
    }
   ],
   "source": [
    "# plot\n",
    "\n",
    "plt.Figure(figsize=(20, 10))\n",
    "plt.plot(youngest_and_oldest_by_year['Year'], youngest_and_oldest_by_year['Average Age'], label='Average Age', marker='x')\n",
    "plt.plot(youngest_and_oldest_by_year['Year'], youngest_and_oldest_by_year['Youngest Age'], label='Youngest Age', marker='d')\n",
    "plt.plot(youngest_and_oldest_by_year['Year'], youngest_and_oldest_by_year['Oldest Age'], label='Oldest Age', marker='o')\n",
    "\n",
    "plt.xlabel('Year')\n",
    "plt.ylabel('Age')\n",
    "plt.title('Ages by Year (2016-2019): Average, Youngest, Oldest')\n",
    "plt.legend()\n",
    "plt.grid(True)\n",
    "plt.xticks(youngest_and_oldest_by_year['Year'])\n",
    "plt.tight_layout()\n",
    "\n",
    "plt.show()"
   ]
  },
  {
   "cell_type": "markdown",
   "id": "8d041420",
   "metadata": {},
   "source": [
    "Humble not so humble brag that I have completed a marathon, and see where I fall in the overall average age"
   ]
  },
  {
   "cell_type": "markdown",
   "id": "d580475c",
   "metadata": {},
   "source": [
    "Possibly see where I stood in the overall avg age"
   ]
  },
  {
   "cell_type": "code",
   "execution_count": 309,
   "id": "1bb4de31",
   "metadata": {},
   "outputs": [
    {
     "data": {
      "text/html": [
       "<div>\n",
       "<style scoped>\n",
       "    .dataframe tbody tr th:only-of-type {\n",
       "        vertical-align: middle;\n",
       "    }\n",
       "\n",
       "    .dataframe tbody tr th {\n",
       "        vertical-align: top;\n",
       "    }\n",
       "\n",
       "    .dataframe thead th {\n",
       "        text-align: right;\n",
       "    }\n",
       "</style>\n",
       "<table border=\"1\" class=\"dataframe\">\n",
       "  <thead>\n",
       "    <tr style=\"text-align: right;\">\n",
       "      <th></th>\n",
       "      <th>Race</th>\n",
       "      <th>Year</th>\n",
       "      <th>Name</th>\n",
       "      <th>Sex</th>\n",
       "      <th>Age</th>\n",
       "      <th>Finish</th>\n",
       "      <th>Age Bracket</th>\n",
       "    </tr>\n",
       "  </thead>\n",
       "  <tbody>\n",
       "    <tr>\n",
       "      <th>7428</th>\n",
       "      <td>Indianapolis Monumental Marathon</td>\n",
       "      <td>2019</td>\n",
       "      <td>Rachael Meyer</td>\n",
       "      <td>Female</td>\n",
       "      <td>24</td>\n",
       "      <td>15494</td>\n",
       "      <td>Under 35</td>\n",
       "    </tr>\n",
       "    <tr>\n",
       "      <th>7429</th>\n",
       "      <td>Indianapolis Monumental Marathon</td>\n",
       "      <td>2019</td>\n",
       "      <td>Andrea Kjos</td>\n",
       "      <td>Female</td>\n",
       "      <td>39</td>\n",
       "      <td>15495</td>\n",
       "      <td>35-39</td>\n",
       "    </tr>\n",
       "    <tr>\n",
       "      <th>7430</th>\n",
       "      <td>Indianapolis Monumental Marathon</td>\n",
       "      <td>2019</td>\n",
       "      <td>Renee Guthrie</td>\n",
       "      <td>Female</td>\n",
       "      <td>39</td>\n",
       "      <td>15495</td>\n",
       "      <td>35-39</td>\n",
       "    </tr>\n",
       "    <tr>\n",
       "      <th>7431</th>\n",
       "      <td>Indianapolis Monumental Marathon</td>\n",
       "      <td>2019</td>\n",
       "      <td>Jesse Maas</td>\n",
       "      <td>Female</td>\n",
       "      <td>24</td>\n",
       "      <td>15501</td>\n",
       "      <td>Under 35</td>\n",
       "    </tr>\n",
       "    <tr>\n",
       "      <th>7432</th>\n",
       "      <td>Indianapolis Monumental Marathon</td>\n",
       "      <td>2019</td>\n",
       "      <td>Tony Blevins</td>\n",
       "      <td>Male</td>\n",
       "      <td>44</td>\n",
       "      <td>15502</td>\n",
       "      <td>40-44</td>\n",
       "    </tr>\n",
       "  </tbody>\n",
       "</table>\n",
       "</div>"
      ],
      "text/plain": [
       "                                  Race  Year           Name     Sex  Age  \\\n",
       "7428  Indianapolis Monumental Marathon  2019  Rachael Meyer  Female   24   \n",
       "7429  Indianapolis Monumental Marathon  2019    Andrea Kjos  Female   39   \n",
       "7430  Indianapolis Monumental Marathon  2019  Renee Guthrie  Female   39   \n",
       "7431  Indianapolis Monumental Marathon  2019     Jesse Maas  Female   24   \n",
       "7432  Indianapolis Monumental Marathon  2019   Tony Blevins    Male   44   \n",
       "\n",
       "      Finish Age Bracket  \n",
       "7428   15494    Under 35  \n",
       "7429   15495       35-39  \n",
       "7430   15495       35-39  \n",
       "7431   15501    Under 35  \n",
       "7432   15502       40-44  "
      ]
     },
     "execution_count": 309,
     "metadata": {},
     "output_type": "execute_result"
    }
   ],
   "source": [
    "# narrow dataset down to the marathon I completed\n",
    "\n",
    "monumental_marathon_2019 = marathon_df[(marathon_df['Year'] == 2019) & (marathon_df['Race'] == 'Indianapolis Monumental Marathon')]\n",
    "monumental_marathon_2019.head()"
   ]
  },
  {
   "cell_type": "code",
   "execution_count": 310,
   "id": "9b770b0e",
   "metadata": {},
   "outputs": [],
   "source": [
    "# create a csv of Indy Monumental\n",
    "\n",
    "monumental_marathon_2019.to_csv('Indianapolis Monumental Marathon 2019')"
   ]
  },
  {
   "cell_type": "code",
   "execution_count": 311,
   "id": "06384337",
   "metadata": {},
   "outputs": [
    {
     "data": {
      "text/plain": [
       "Race           Indianapolis Monumental Marathon\n",
       "Year                                       2019\n",
       "Name                             Justin Masters\n",
       "Sex                                        Male\n",
       "Age                                          39\n",
       "Finish                                    24716\n",
       "Age Bracket                               35-39\n",
       "Name: 171218, dtype: object"
      ]
     },
     "execution_count": 311,
     "metadata": {},
     "output_type": "execute_result"
    }
   ],
   "source": [
    "# Get my stats\n",
    "\n",
    "my_time = monumental_marathon_2019.iloc[2243]\n",
    "my_time"
   ]
  },
  {
   "cell_type": "code",
   "execution_count": 312,
   "id": "d2ca3145",
   "metadata": {},
   "outputs": [
    {
     "data": {
      "text/plain": [
       "np.int64(40)"
      ]
     },
     "execution_count": 312,
     "metadata": {},
     "output_type": "execute_result"
    }
   ],
   "source": [
    "# Get average of all ages in all years\n",
    "\n",
    "my_age = 39\n",
    "total_avg_age = marathon_df['Age'].mean().astype(int)\n",
    "total_avg_age\n"
   ]
  },
  {
   "cell_type": "code",
   "execution_count": 313,
   "id": "49e4afbe",
   "metadata": {},
   "outputs": [
    {
     "data": {
      "image/png": "[encoded data removed]",
      "text/plain": [
       "<Figure size 600x400 with 1 Axes>"
      ]
     },
     "metadata": {},
     "output_type": "display_data"
    }
   ],
   "source": [
    "# compare my age to avg age for marathon finishers 2015*2019\n",
    "\n",
    "plt.figure(figsize=(6,4))\n",
    "plt.bar(['Total Avg Age', 'My Age'], [total_avg_age, my_age], color=['blue', 'black'])\n",
    "plt.ylabel('Age')\n",
    "plt.title('My Age vs Total Avg Age Marathon Finisher (2016 - 2019)')\n",
    "plt.xticks(rotation=45, ha =\"right\")\n",
    "\n",
    "ax = plt.gca()\n",
    "ax.spines['top'].set_visible(False)\n",
    "ax.spines['right'].set_visible(False)\n",
    "\n",
    "plt.show()"
   ]
  },
  {
   "cell_type": "markdown",
   "id": "ab4f33f8",
   "metadata": {},
   "source": [
    "Final Thoughts Bullet points "
   ]
  },
  {
   "cell_type": "markdown",
   "id": "2c9257da",
   "metadata": {},
   "source": [
    "Use possible Choropleth in final with Ultra Marathon data and country of athlete or if home country of athlete age varies"
   ]
  }
 ],
 "metadata": {
  "kernelspec": {
   "display_name": "env",
   "language": "python",
   "name": "python3"
  },
  "language_info": {
   "codemirror_mode": {
    "name": "ipython",
    "version": 3
   },
   "file_extension": ".py",
   "mimetype": "text/x-python",
   "name": "python",
   "nbconvert_exporter": "python",
   "pygments_lexer": "ipython3",
   "version": "3.13.4"
  }
 },
 "nbformat": 4,
 "nbformat_minor": 5
}
