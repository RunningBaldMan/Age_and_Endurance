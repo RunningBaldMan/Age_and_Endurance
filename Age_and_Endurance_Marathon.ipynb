{
 "cells": [
  {
   "cell_type": "markdown",
   "id": "e04969cb",
   "metadata": {},
   "source": [
    "To activate virtual environment  type in terminal source env/bin/activate\n",
    "To exit type deactivate"
   ]
  },
  {
   "cell_type": "markdown",
   "id": "1a48b328",
   "metadata": {},
   "source": [
    "3 Graphs\n",
    "- Age by year\n",
    "- Male vs female age\n",
    "- Age by each marathon\n",
    "- Age for 2019 Indy Monumental\n",
    "\n",
    "2nd data frame contains ultra marathons\n",
    "- distance and age\n",
    "- age by country"
   ]
  },
  {
   "cell_type": "markdown",
   "id": "c8d8a509",
   "metadata": {},
   "source": [
    "Open your notebook (.ipynb).\n",
    "Click the kernel picker (top right of the notebook).\n",
    "Choose venv as the kernel - it will be under Python Environments\n",
    "\n",
    "Is this a different .ipynb?"
   ]
  },
  {
   "cell_type": "markdown",
   "id": "4c693c1e",
   "metadata": {},
   "source": [
    "Origninal csv too big, 109.7+ MB, for git hub. Had to reduce size. Made csv 2016-2019.\n",
    "Original dataset at https://www.kaggle.com/datasets/runningwithrock/2010-2019-fall-marathons\n",
    "\n",
    "Code to reduce size \n",
    "----\n",
    "marathon_df = marathon_df[marathon_df['Year'] >= 2015]\n",
    "\n",
    "-------\n",
    "2nd data frane The big dataset of ultra-marathon running\n",
    "https://www.kaggle.com/datasets/aiaiaidavid/the-big-dataset-of-ultra-marathon-running/data\n",
    "\n",
    "Will need size reduced"
   ]
  },
  {
   "cell_type": "markdown",
   "id": "7d36f002",
   "metadata": {},
   "source": [
    "I have heard there there is a larger percentage of older adults, 50+, that engage in Ulta Endurance sports. Using the marathon as the basis race, compare the age difference btwn the different distances. (Marathon, 50k, 50m, 100k, 100m, and anything over grouped together.)"
   ]
  },
  {
   "cell_type": "code",
   "execution_count": 460,
   "id": "438fbe73",
   "metadata": {},
   "outputs": [],
   "source": [
    "import zipfile\n",
    "import pandas as pd\n",
    "import matplotlib.pyplot as plt\n",
    "import seaborn as sns\n"
   ]
  },
  {
   "cell_type": "markdown",
   "id": "1f617d0c",
   "metadata": {},
   "source": [
    "This code was the origingal data set that included Fall Marathons from 2010 - 2019. This was too large to upload to GitHub and reduced to 2016 - 2019.\n",
    "\n",
    "marathon_df = pd.read_csv(\"/Users/justinmasters/Downloads/Results.csv\")\n",
    "marathon_df.head()\n",
    "\n",
    "marathon_df = marathon_df[marathon_df['Year'] >= 2016]"
   ]
  },
  {
   "cell_type": "code",
   "execution_count": 461,
   "id": "3a4f60b0",
   "metadata": {},
   "outputs": [
    {
     "data": {
      "text/html": [
       "<div>\n",
       "<style scoped>\n",
       "    .dataframe tbody tr th:only-of-type {\n",
       "        vertical-align: middle;\n",
       "    }\n",
       "\n",
       "    .dataframe tbody tr th {\n",
       "        vertical-align: top;\n",
       "    }\n",
       "\n",
       "    .dataframe thead th {\n",
       "        text-align: right;\n",
       "    }\n",
       "</style>\n",
       "<table border=\"1\" class=\"dataframe\">\n",
       "  <thead>\n",
       "    <tr style=\"text-align: right;\">\n",
       "      <th></th>\n",
       "      <th>Race</th>\n",
       "      <th>Year</th>\n",
       "      <th>Name</th>\n",
       "      <th>Gender</th>\n",
       "      <th>Age</th>\n",
       "      <th>Finish</th>\n",
       "      <th>Age Bracket</th>\n",
       "    </tr>\n",
       "  </thead>\n",
       "  <tbody>\n",
       "    <tr>\n",
       "      <th>0</th>\n",
       "      <td>Columbus Marathon</td>\n",
       "      <td>2015</td>\n",
       "      <td>Becky Williams</td>\n",
       "      <td>F</td>\n",
       "      <td>29</td>\n",
       "      <td>13645</td>\n",
       "      <td>Under 35</td>\n",
       "    </tr>\n",
       "    <tr>\n",
       "      <th>1</th>\n",
       "      <td>Columbus Marathon</td>\n",
       "      <td>2015</td>\n",
       "      <td>Jessica Sheahan</td>\n",
       "      <td>F</td>\n",
       "      <td>27</td>\n",
       "      <td>13648</td>\n",
       "      <td>Under 35</td>\n",
       "    </tr>\n",
       "    <tr>\n",
       "      <th>2</th>\n",
       "      <td>Columbus Marathon</td>\n",
       "      <td>2015</td>\n",
       "      <td>Kelsey Stief</td>\n",
       "      <td>F</td>\n",
       "      <td>27</td>\n",
       "      <td>13650</td>\n",
       "      <td>Under 35</td>\n",
       "    </tr>\n",
       "    <tr>\n",
       "      <th>3</th>\n",
       "      <td>Columbus Marathon</td>\n",
       "      <td>2015</td>\n",
       "      <td>Mehgan Cline</td>\n",
       "      <td>F</td>\n",
       "      <td>26</td>\n",
       "      <td>13650</td>\n",
       "      <td>Under 35</td>\n",
       "    </tr>\n",
       "    <tr>\n",
       "      <th>4</th>\n",
       "      <td>Columbus Marathon</td>\n",
       "      <td>2015</td>\n",
       "      <td>Stefanie Driesenga</td>\n",
       "      <td>F</td>\n",
       "      <td>28</td>\n",
       "      <td>13652</td>\n",
       "      <td>Under 35</td>\n",
       "    </tr>\n",
       "  </tbody>\n",
       "</table>\n",
       "</div>"
      ],
      "text/plain": [
       "                Race  Year                Name Gender  Age  Finish Age Bracket\n",
       "0  Columbus Marathon  2015      Becky Williams      F   29   13645    Under 35\n",
       "1  Columbus Marathon  2015     Jessica Sheahan      F   27   13648    Under 35\n",
       "2  Columbus Marathon  2015        Kelsey Stief      F   27   13650    Under 35\n",
       "3  Columbus Marathon  2015        Mehgan Cline      F   26   13650    Under 35\n",
       "4  Columbus Marathon  2015  Stefanie Driesenga      F   28   13652    Under 35"
      ]
     },
     "execution_count": 461,
     "metadata": {},
     "output_type": "execute_result"
    }
   ],
   "source": [
    "marathon_df = pd.read_csv(\"/Users/justinmasters/Downloads/Results.csv\")\n",
    "marathon_df.head()"
   ]
  },
  {
   "cell_type": "markdown",
   "id": "0f65bdb3",
   "metadata": {},
   "source": [
    "The reduction is size was verified. "
   ]
  },
  {
   "cell_type": "code",
   "execution_count": 462,
   "id": "9d58efbf",
   "metadata": {},
   "outputs": [],
   "source": [
    "# marathon_df.shape"
   ]
  },
  {
   "cell_type": "markdown",
   "id": "047dbcb4",
   "metadata": {},
   "source": [
    "A CSV was the created with the smaller dataframe"
   ]
  },
  {
   "cell_type": "code",
   "execution_count": 463,
   "id": "4ed780cb",
   "metadata": {},
   "outputs": [],
   "source": [
    "marathon_df.to_csv('Results2.csv', index=False)"
   ]
  },
  {
   "cell_type": "code",
   "execution_count": 464,
   "id": "966fd499",
   "metadata": {},
   "outputs": [],
   "source": [
    "# Create new csv with reduced df\n",
    "\n",
    "# marathon_df.to_csv('Results2.csv', index=False)"
   ]
  },
  {
   "cell_type": "markdown",
   "id": "4404daaa",
   "metadata": {},
   "source": [
    "The new CSV was then imported"
   ]
  },
  {
   "cell_type": "code",
   "execution_count": 465,
   "id": "4429a7d8",
   "metadata": {},
   "outputs": [
    {
     "data": {
      "text/html": [
       "<div>\n",
       "<style scoped>\n",
       "    .dataframe tbody tr th:only-of-type {\n",
       "        vertical-align: middle;\n",
       "    }\n",
       "\n",
       "    .dataframe tbody tr th {\n",
       "        vertical-align: top;\n",
       "    }\n",
       "\n",
       "    .dataframe thead th {\n",
       "        text-align: right;\n",
       "    }\n",
       "</style>\n",
       "<table border=\"1\" class=\"dataframe\">\n",
       "  <thead>\n",
       "    <tr style=\"text-align: right;\">\n",
       "      <th></th>\n",
       "      <th>Race</th>\n",
       "      <th>Year</th>\n",
       "      <th>Name</th>\n",
       "      <th>Gender</th>\n",
       "      <th>Age</th>\n",
       "      <th>Finish</th>\n",
       "      <th>Age Bracket</th>\n",
       "    </tr>\n",
       "  </thead>\n",
       "  <tbody>\n",
       "    <tr>\n",
       "      <th>0</th>\n",
       "      <td>Richmond Marathon</td>\n",
       "      <td>2019</td>\n",
       "      <td>DAWN STADNYK</td>\n",
       "      <td>F</td>\n",
       "      <td>43</td>\n",
       "      <td>12847</td>\n",
       "      <td>40-44</td>\n",
       "    </tr>\n",
       "    <tr>\n",
       "      <th>1</th>\n",
       "      <td>Richmond Marathon</td>\n",
       "      <td>2019</td>\n",
       "      <td>ANDREW MARTIN</td>\n",
       "      <td>M</td>\n",
       "      <td>27</td>\n",
       "      <td>12812</td>\n",
       "      <td>Under 35</td>\n",
       "    </tr>\n",
       "    <tr>\n",
       "      <th>2</th>\n",
       "      <td>Richmond Marathon</td>\n",
       "      <td>2019</td>\n",
       "      <td>CAROL BRAUN</td>\n",
       "      <td>F</td>\n",
       "      <td>56</td>\n",
       "      <td>12844</td>\n",
       "      <td>55-59</td>\n",
       "    </tr>\n",
       "    <tr>\n",
       "      <th>3</th>\n",
       "      <td>Richmond Marathon</td>\n",
       "      <td>2019</td>\n",
       "      <td>PETER EMERSON</td>\n",
       "      <td>M</td>\n",
       "      <td>29</td>\n",
       "      <td>12816</td>\n",
       "      <td>Under 35</td>\n",
       "    </tr>\n",
       "    <tr>\n",
       "      <th>4</th>\n",
       "      <td>Richmond Marathon</td>\n",
       "      <td>2019</td>\n",
       "      <td>JACOB BARKER</td>\n",
       "      <td>M</td>\n",
       "      <td>18</td>\n",
       "      <td>12831</td>\n",
       "      <td>Under 35</td>\n",
       "    </tr>\n",
       "  </tbody>\n",
       "</table>\n",
       "</div>"
      ],
      "text/plain": [
       "                Race  Year           Name Gender  Age  Finish Age Bracket\n",
       "0  Richmond Marathon  2019   DAWN STADNYK      F   43   12847       40-44\n",
       "1  Richmond Marathon  2019  ANDREW MARTIN      M   27   12812    Under 35\n",
       "2  Richmond Marathon  2019    CAROL BRAUN      F   56   12844       55-59\n",
       "3  Richmond Marathon  2019  PETER EMERSON      M   29   12816    Under 35\n",
       "4  Richmond Marathon  2019   JACOB BARKER      M   18   12831    Under 35"
      ]
     },
     "execution_count": 465,
     "metadata": {},
     "output_type": "execute_result"
    }
   ],
   "source": [
    "marathon_df = pd.read_csv(\"/Users/justinmasters/Documents/DA_prereq_Justin_Masters/Notebooks/Age_and_Endurance/Data/Results2.csv\")\n",
    "marathon_df.head()"
   ]
  },
  {
   "cell_type": "markdown",
   "id": "fc120291",
   "metadata": {},
   "source": [
    "Verify the number of rows and columns"
   ]
  },
  {
   "cell_type": "code",
   "execution_count": 466,
   "id": "0cd62355",
   "metadata": {},
   "outputs": [
    {
     "data": {
      "text/plain": [
       "(779285, 7)"
      ]
     },
     "execution_count": 466,
     "metadata": {},
     "output_type": "execute_result"
    }
   ],
   "source": [
    "marathon_df.shape\n"
   ]
  },
  {
   "cell_type": "code",
   "execution_count": null,
   "id": "5bd8e72f",
   "metadata": {},
   "outputs": [],
   "source": [
    "marathon_df.info()"
   ]
  },
  {
   "cell_type": "markdown",
   "id": "1a35f68a",
   "metadata": {},
   "source": [
    "Find the min/max age for possible items to drop "
   ]
  },
  {
   "cell_type": "code",
   "execution_count": 467,
   "id": "16dede90",
   "metadata": {},
   "outputs": [
    {
     "data": {
      "text/html": [
       "<div>\n",
       "<style scoped>\n",
       "    .dataframe tbody tr th:only-of-type {\n",
       "        vertical-align: middle;\n",
       "    }\n",
       "\n",
       "    .dataframe tbody tr th {\n",
       "        vertical-align: top;\n",
       "    }\n",
       "\n",
       "    .dataframe thead th {\n",
       "        text-align: right;\n",
       "    }\n",
       "</style>\n",
       "<table border=\"1\" class=\"dataframe\">\n",
       "  <thead>\n",
       "    <tr style=\"text-align: right;\">\n",
       "      <th></th>\n",
       "      <th>Year</th>\n",
       "      <th>Age</th>\n",
       "      <th>Finish</th>\n",
       "    </tr>\n",
       "  </thead>\n",
       "  <tbody>\n",
       "    <tr>\n",
       "      <th>count</th>\n",
       "      <td>779285.000000</td>\n",
       "      <td>779285.000000</td>\n",
       "      <td>779285.000000</td>\n",
       "    </tr>\n",
       "    <tr>\n",
       "      <th>mean</th>\n",
       "      <td>2017.479532</td>\n",
       "      <td>39.802386</td>\n",
       "      <td>16621.442168</td>\n",
       "    </tr>\n",
       "    <tr>\n",
       "      <th>std</th>\n",
       "      <td>1.122188</td>\n",
       "      <td>12.554135</td>\n",
       "      <td>3481.748727</td>\n",
       "    </tr>\n",
       "    <tr>\n",
       "      <th>min</th>\n",
       "      <td>2016.000000</td>\n",
       "      <td>-1.000000</td>\n",
       "      <td>7511.000000</td>\n",
       "    </tr>\n",
       "    <tr>\n",
       "      <th>25%</th>\n",
       "      <td>2016.000000</td>\n",
       "      <td>31.000000</td>\n",
       "      <td>14081.000000</td>\n",
       "    </tr>\n",
       "    <tr>\n",
       "      <th>50%</th>\n",
       "      <td>2017.000000</td>\n",
       "      <td>39.000000</td>\n",
       "      <td>16242.000000</td>\n",
       "    </tr>\n",
       "    <tr>\n",
       "      <th>75%</th>\n",
       "      <td>2018.000000</td>\n",
       "      <td>49.000000</td>\n",
       "      <td>18770.000000</td>\n",
       "    </tr>\n",
       "    <tr>\n",
       "      <th>max</th>\n",
       "      <td>2019.000000</td>\n",
       "      <td>116.000000</td>\n",
       "      <td>73460.000000</td>\n",
       "    </tr>\n",
       "  </tbody>\n",
       "</table>\n",
       "</div>"
      ],
      "text/plain": [
       "                Year            Age         Finish\n",
       "count  779285.000000  779285.000000  779285.000000\n",
       "mean     2017.479532      39.802386   16621.442168\n",
       "std         1.122188      12.554135    3481.748727\n",
       "min      2016.000000      -1.000000    7511.000000\n",
       "25%      2016.000000      31.000000   14081.000000\n",
       "50%      2017.000000      39.000000   16242.000000\n",
       "75%      2018.000000      49.000000   18770.000000\n",
       "max      2019.000000     116.000000   73460.000000"
      ]
     },
     "execution_count": 467,
     "metadata": {},
     "output_type": "execute_result"
    }
   ],
   "source": [
    "marathon_df.describe()"
   ]
  },
  {
   "cell_type": "code",
   "execution_count": 468,
   "id": "25392d5a",
   "metadata": {},
   "outputs": [
    {
     "data": {
      "text/plain": [
       "Race           0\n",
       "Year           0\n",
       "Name           0\n",
       "Gender         5\n",
       "Age            0\n",
       "Finish         0\n",
       "Age Bracket    0\n",
       "dtype: int64"
      ]
     },
     "execution_count": 468,
     "metadata": {},
     "output_type": "execute_result"
    }
   ],
   "source": [
    "# Check for nulls\n",
    "\n",
    "marathon_df.isnull().sum()"
   ]
  },
  {
   "cell_type": "markdown",
   "id": "7b4eaa5e",
   "metadata": {},
   "source": [
    "List all unique ages "
   ]
  },
  {
   "cell_type": "code",
   "execution_count": 469,
   "id": "1f8fa42c",
   "metadata": {},
   "outputs": [
    {
     "data": {
      "text/plain": [
       "[np.int64(-1),\n",
       " np.int64(1),\n",
       " np.int64(6),\n",
       " np.int64(9),\n",
       " np.int64(10),\n",
       " np.int64(11),\n",
       " np.int64(12),\n",
       " np.int64(13),\n",
       " np.int64(14),\n",
       " np.int64(15),\n",
       " np.int64(16),\n",
       " np.int64(17),\n",
       " np.int64(18),\n",
       " np.int64(19),\n",
       " np.int64(20),\n",
       " np.int64(21),\n",
       " np.int64(22),\n",
       " np.int64(23),\n",
       " np.int64(24),\n",
       " np.int64(25),\n",
       " np.int64(26),\n",
       " np.int64(27),\n",
       " np.int64(28),\n",
       " np.int64(29),\n",
       " np.int64(30),\n",
       " np.int64(31),\n",
       " np.int64(32),\n",
       " np.int64(33),\n",
       " np.int64(34),\n",
       " np.int64(35),\n",
       " np.int64(36),\n",
       " np.int64(37),\n",
       " np.int64(38),\n",
       " np.int64(39),\n",
       " np.int64(40),\n",
       " np.int64(41),\n",
       " np.int64(42),\n",
       " np.int64(43),\n",
       " np.int64(44),\n",
       " np.int64(45),\n",
       " np.int64(46),\n",
       " np.int64(47),\n",
       " np.int64(48),\n",
       " np.int64(49),\n",
       " np.int64(50),\n",
       " np.int64(51),\n",
       " np.int64(52),\n",
       " np.int64(53),\n",
       " np.int64(54),\n",
       " np.int64(55),\n",
       " np.int64(56),\n",
       " np.int64(57),\n",
       " np.int64(58),\n",
       " np.int64(59),\n",
       " np.int64(60),\n",
       " np.int64(61),\n",
       " np.int64(62),\n",
       " np.int64(63),\n",
       " np.int64(64),\n",
       " np.int64(65),\n",
       " np.int64(66),\n",
       " np.int64(67),\n",
       " np.int64(68),\n",
       " np.int64(69),\n",
       " np.int64(70),\n",
       " np.int64(71),\n",
       " np.int64(72),\n",
       " np.int64(73),\n",
       " np.int64(74),\n",
       " np.int64(75),\n",
       " np.int64(76),\n",
       " np.int64(77),\n",
       " np.int64(78),\n",
       " np.int64(79),\n",
       " np.int64(80),\n",
       " np.int64(81),\n",
       " np.int64(82),\n",
       " np.int64(83),\n",
       " np.int64(84),\n",
       " np.int64(85),\n",
       " np.int64(86),\n",
       " np.int64(87),\n",
       " np.int64(88),\n",
       " np.int64(90),\n",
       " np.int64(91),\n",
       " np.int64(98),\n",
       " np.int64(99),\n",
       " np.int64(116)]"
      ]
     },
     "execution_count": 469,
     "metadata": {},
     "output_type": "execute_result"
    }
   ],
   "source": [
    "unique_values = sorted(marathon_df['Age'].unique())\n",
    "unique_values"
   ]
  },
  {
   "cell_type": "markdown",
   "id": "1a766f91",
   "metadata": {},
   "source": [
    "I researched and found that the youngest person to run a marathon was Umi Taguchi at age 17 at the 2024 Honolulu Marathon . Drop ages younger than 17."
   ]
  },
  {
   "cell_type": "code",
   "execution_count": 504,
   "id": "fe1a8052",
   "metadata": {},
   "outputs": [],
   "source": [
    "#drop ages younger than 17 and older than 98\n",
    "\n",
    "\n",
    "def official_ages(marathon_df):\n",
    "    valid_ages = (marathon_df['Age'] >= 17) & (marathon_df['Age'] <= 98)\n",
    "    official_ages = marathon_df[valid_ages]\n",
    "\n",
    "    return official_ages"
   ]
  },
  {
   "cell_type": "code",
   "execution_count": 507,
   "id": "92a4f454",
   "metadata": {},
   "outputs": [
    {
     "data": {
      "text/plain": [
       "[np.int64(17),\n",
       " np.int64(18),\n",
       " np.int64(19),\n",
       " np.int64(20),\n",
       " np.int64(21),\n",
       " np.int64(22),\n",
       " np.int64(23),\n",
       " np.int64(24),\n",
       " np.int64(25),\n",
       " np.int64(26),\n",
       " np.int64(27),\n",
       " np.int64(28),\n",
       " np.int64(29),\n",
       " np.int64(30),\n",
       " np.int64(31),\n",
       " np.int64(32),\n",
       " np.int64(33),\n",
       " np.int64(34),\n",
       " np.int64(35),\n",
       " np.int64(36),\n",
       " np.int64(37),\n",
       " np.int64(38),\n",
       " np.int64(39),\n",
       " np.int64(40),\n",
       " np.int64(41),\n",
       " np.int64(42),\n",
       " np.int64(43),\n",
       " np.int64(44),\n",
       " np.int64(45),\n",
       " np.int64(46),\n",
       " np.int64(47),\n",
       " np.int64(48),\n",
       " np.int64(49),\n",
       " np.int64(50),\n",
       " np.int64(51),\n",
       " np.int64(52),\n",
       " np.int64(53),\n",
       " np.int64(54),\n",
       " np.int64(55),\n",
       " np.int64(56),\n",
       " np.int64(57),\n",
       " np.int64(58),\n",
       " np.int64(59),\n",
       " np.int64(60),\n",
       " np.int64(61),\n",
       " np.int64(62),\n",
       " np.int64(63),\n",
       " np.int64(64),\n",
       " np.int64(65),\n",
       " np.int64(66),\n",
       " np.int64(67),\n",
       " np.int64(68),\n",
       " np.int64(69),\n",
       " np.int64(70),\n",
       " np.int64(71),\n",
       " np.int64(72),\n",
       " np.int64(73),\n",
       " np.int64(74),\n",
       " np.int64(75),\n",
       " np.int64(76),\n",
       " np.int64(77),\n",
       " np.int64(78),\n",
       " np.int64(79),\n",
       " np.int64(80),\n",
       " np.int64(81),\n",
       " np.int64(82),\n",
       " np.int64(83),\n",
       " np.int64(84),\n",
       " np.int64(85),\n",
       " np.int64(86),\n",
       " np.int64(87),\n",
       " np.int64(88),\n",
       " np.int64(90),\n",
       " np.int64(91),\n",
       " np.int64(98)]"
      ]
     },
     "execution_count": 507,
     "metadata": {},
     "output_type": "execute_result"
    }
   ],
   "source": [
    "# verify ages were dropped\n",
    "\n",
    "valid_age_range = official_ages(marathon_df\n",
    "                                )\n",
    "unique_values = sorted(valid_age_range['Age'].unique())\n",
    "unique_values"
   ]
  },
  {
   "cell_type": "markdown",
   "id": "94241149",
   "metadata": {},
   "source": [
    "Through research, the oldest person to run a marathon was Dimitrios Yordanidis in 1976 at age 98. Drop ages older than 98."
   ]
  },
  {
   "cell_type": "code",
   "execution_count": 472,
   "id": "ef76a808",
   "metadata": {},
   "outputs": [
    {
     "data": {
      "text/plain": [
       "Race           0\n",
       "Year           0\n",
       "Name           0\n",
       "Gender         5\n",
       "Age            0\n",
       "Finish         0\n",
       "Age Bracket    0\n",
       "dtype: int64"
      ]
     },
     "execution_count": 472,
     "metadata": {},
     "output_type": "execute_result"
    }
   ],
   "source": [
    "# recheck nulls \n",
    "\n",
    "marathon_df.isnull().sum()\n"
   ]
  },
  {
   "cell_type": "markdown",
   "id": "1c7fc7e2",
   "metadata": {},
   "source": [
    "Nulls were deleted when ages were trimmed"
   ]
  },
  {
   "cell_type": "code",
   "execution_count": 473,
   "id": "04d41b22",
   "metadata": {},
   "outputs": [
    {
     "data": {
      "text/plain": [
       "(779285, 7)"
      ]
     },
     "execution_count": 473,
     "metadata": {},
     "output_type": "execute_result"
    }
   ],
   "source": [
    "marathon_df.shape"
   ]
  },
  {
   "cell_type": "markdown",
   "id": "008b3fca",
   "metadata": {},
   "source": [
    "Find invalid names"
   ]
  },
  {
   "cell_type": "code",
   "execution_count": 474,
   "id": "21f2f0a5",
   "metadata": {},
   "outputs": [
    {
     "name": "stdout",
     "output_type": "stream",
     "text": [
      "0         False\n",
      "1         False\n",
      "2         False\n",
      "3         False\n",
      "4         False\n",
      "          ...  \n",
      "779280    False\n",
      "779281    False\n",
      "779282    False\n",
      "779283    False\n",
      "779284    False\n",
      "Name: Name, Length: 779285, dtype: bool\n"
     ]
    }
   ],
   "source": [
    "invalid_name = marathon_df['Name'].isnull()\n",
    "print(invalid_name)"
   ]
  },
  {
   "cell_type": "markdown",
   "id": "fda32bd4",
   "metadata": {},
   "source": [
    "*******************************************************************************"
   ]
  },
  {
   "cell_type": "code",
   "execution_count": 475,
   "id": "809e59d1",
   "metadata": {},
   "outputs": [
    {
     "data": {
      "text/plain": [
       "0         False\n",
       "1         False\n",
       "2         False\n",
       "3         False\n",
       "4         False\n",
       "          ...  \n",
       "779280    False\n",
       "779281    False\n",
       "779282    False\n",
       "779283    False\n",
       "779284    False\n",
       "Length: 779285, dtype: bool"
      ]
     },
     "execution_count": 475,
     "metadata": {},
     "output_type": "execute_result"
    }
   ],
   "source": [
    "# Check if there are any duplicates\n",
    "\n",
    "marathon_df.duplicated()"
   ]
  },
  {
   "cell_type": "code",
   "execution_count": 476,
   "id": "8bc5f3ac",
   "metadata": {},
   "outputs": [
    {
     "name": "stdout",
     "output_type": "stream",
     "text": [
      "<class 'pandas.core.frame.DataFrame'>\n",
      "RangeIndex: 779285 entries, 0 to 779284\n",
      "Data columns (total 7 columns):\n",
      " #   Column       Non-Null Count   Dtype \n",
      "---  ------       --------------   ----- \n",
      " 0   Race         779285 non-null  object\n",
      " 1   Year         779285 non-null  int64 \n",
      " 2   Name         779285 non-null  object\n",
      " 3   Sex          779280 non-null  object\n",
      " 4   Age          779285 non-null  int64 \n",
      " 5   Finish       779285 non-null  int64 \n",
      " 6   Age Bracket  779285 non-null  object\n",
      "dtypes: int64(3), object(4)\n",
      "memory usage: 41.6+ MB\n"
     ]
    }
   ],
   "source": [
    "# Rename Gender column to Sex\n",
    "\n",
    "marathon_df.rename(columns={'Gender': 'Sex'}, inplace=True)\n",
    "marathon_df.info()"
   ]
  },
  {
   "cell_type": "code",
   "execution_count": 477,
   "id": "3606ec7d",
   "metadata": {},
   "outputs": [
    {
     "data": {
      "text/html": [
       "<div>\n",
       "<style scoped>\n",
       "    .dataframe tbody tr th:only-of-type {\n",
       "        vertical-align: middle;\n",
       "    }\n",
       "\n",
       "    .dataframe tbody tr th {\n",
       "        vertical-align: top;\n",
       "    }\n",
       "\n",
       "    .dataframe thead th {\n",
       "        text-align: right;\n",
       "    }\n",
       "</style>\n",
       "<table border=\"1\" class=\"dataframe\">\n",
       "  <thead>\n",
       "    <tr style=\"text-align: right;\">\n",
       "      <th></th>\n",
       "      <th>Race</th>\n",
       "      <th>Year</th>\n",
       "      <th>Name</th>\n",
       "      <th>Sex</th>\n",
       "      <th>Age</th>\n",
       "      <th>Finish</th>\n",
       "      <th>Age Bracket</th>\n",
       "    </tr>\n",
       "  </thead>\n",
       "  <tbody>\n",
       "    <tr>\n",
       "      <th>0</th>\n",
       "      <td>Richmond Marathon</td>\n",
       "      <td>2019</td>\n",
       "      <td>DAWN STADNYK</td>\n",
       "      <td>Female</td>\n",
       "      <td>43</td>\n",
       "      <td>12847</td>\n",
       "      <td>40-44</td>\n",
       "    </tr>\n",
       "    <tr>\n",
       "      <th>1</th>\n",
       "      <td>Richmond Marathon</td>\n",
       "      <td>2019</td>\n",
       "      <td>ANDREW MARTIN</td>\n",
       "      <td>Male</td>\n",
       "      <td>27</td>\n",
       "      <td>12812</td>\n",
       "      <td>Under 35</td>\n",
       "    </tr>\n",
       "    <tr>\n",
       "      <th>2</th>\n",
       "      <td>Richmond Marathon</td>\n",
       "      <td>2019</td>\n",
       "      <td>CAROL BRAUN</td>\n",
       "      <td>Female</td>\n",
       "      <td>56</td>\n",
       "      <td>12844</td>\n",
       "      <td>55-59</td>\n",
       "    </tr>\n",
       "    <tr>\n",
       "      <th>3</th>\n",
       "      <td>Richmond Marathon</td>\n",
       "      <td>2019</td>\n",
       "      <td>PETER EMERSON</td>\n",
       "      <td>Male</td>\n",
       "      <td>29</td>\n",
       "      <td>12816</td>\n",
       "      <td>Under 35</td>\n",
       "    </tr>\n",
       "    <tr>\n",
       "      <th>4</th>\n",
       "      <td>Richmond Marathon</td>\n",
       "      <td>2019</td>\n",
       "      <td>JACOB BARKER</td>\n",
       "      <td>Male</td>\n",
       "      <td>18</td>\n",
       "      <td>12831</td>\n",
       "      <td>Under 35</td>\n",
       "    </tr>\n",
       "    <tr>\n",
       "      <th>...</th>\n",
       "      <td>...</td>\n",
       "      <td>...</td>\n",
       "      <td>...</td>\n",
       "      <td>...</td>\n",
       "      <td>...</td>\n",
       "      <td>...</td>\n",
       "      <td>...</td>\n",
       "    </tr>\n",
       "    <tr>\n",
       "      <th>779280</th>\n",
       "      <td>Marine Corps Marathon</td>\n",
       "      <td>2019</td>\n",
       "      <td>Daryl Young</td>\n",
       "      <td>Male</td>\n",
       "      <td>39</td>\n",
       "      <td>18575</td>\n",
       "      <td>35-39</td>\n",
       "    </tr>\n",
       "    <tr>\n",
       "      <th>779281</th>\n",
       "      <td>Marine Corps Marathon</td>\n",
       "      <td>2019</td>\n",
       "      <td>Ella Biggins</td>\n",
       "      <td>Female</td>\n",
       "      <td>24</td>\n",
       "      <td>18575</td>\n",
       "      <td>Under 35</td>\n",
       "    </tr>\n",
       "    <tr>\n",
       "      <th>779282</th>\n",
       "      <td>Marine Corps Marathon</td>\n",
       "      <td>2019</td>\n",
       "      <td>Kevin Klym</td>\n",
       "      <td>Male</td>\n",
       "      <td>44</td>\n",
       "      <td>18575</td>\n",
       "      <td>40-44</td>\n",
       "    </tr>\n",
       "    <tr>\n",
       "      <th>779283</th>\n",
       "      <td>Marine Corps Marathon</td>\n",
       "      <td>2019</td>\n",
       "      <td>Casey A Shapiro</td>\n",
       "      <td>Female</td>\n",
       "      <td>34</td>\n",
       "      <td>18578</td>\n",
       "      <td>Under 35</td>\n",
       "    </tr>\n",
       "    <tr>\n",
       "      <th>779284</th>\n",
       "      <td>Marine Corps Marathon</td>\n",
       "      <td>2019</td>\n",
       "      <td>Zhaowei Liu</td>\n",
       "      <td>Male</td>\n",
       "      <td>64</td>\n",
       "      <td>18578</td>\n",
       "      <td>60-64</td>\n",
       "    </tr>\n",
       "  </tbody>\n",
       "</table>\n",
       "<p>779285 rows × 7 columns</p>\n",
       "</div>"
      ],
      "text/plain": [
       "                         Race  Year             Name     Sex  Age  Finish  \\\n",
       "0           Richmond Marathon  2019     DAWN STADNYK  Female   43   12847   \n",
       "1           Richmond Marathon  2019    ANDREW MARTIN    Male   27   12812   \n",
       "2           Richmond Marathon  2019      CAROL BRAUN  Female   56   12844   \n",
       "3           Richmond Marathon  2019    PETER EMERSON    Male   29   12816   \n",
       "4           Richmond Marathon  2019     JACOB BARKER    Male   18   12831   \n",
       "...                       ...   ...              ...     ...  ...     ...   \n",
       "779280  Marine Corps Marathon  2019      Daryl Young    Male   39   18575   \n",
       "779281  Marine Corps Marathon  2019     Ella Biggins  Female   24   18575   \n",
       "779282  Marine Corps Marathon  2019       Kevin Klym    Male   44   18575   \n",
       "779283  Marine Corps Marathon  2019  Casey A Shapiro  Female   34   18578   \n",
       "779284  Marine Corps Marathon  2019      Zhaowei Liu    Male   64   18578   \n",
       "\n",
       "       Age Bracket  \n",
       "0            40-44  \n",
       "1         Under 35  \n",
       "2            55-59  \n",
       "3         Under 35  \n",
       "4         Under 35  \n",
       "...            ...  \n",
       "779280       35-39  \n",
       "779281    Under 35  \n",
       "779282       40-44  \n",
       "779283    Under 35  \n",
       "779284       60-64  \n",
       "\n",
       "[779285 rows x 7 columns]"
      ]
     },
     "execution_count": 477,
     "metadata": {},
     "output_type": "execute_result"
    }
   ],
   "source": [
    "# Assign Male and Female to M and F\n",
    "\n",
    "marathon_df['Sex'] = marathon_df[\"Sex\"].replace(['M', 'F'], ['Male', 'Female'])\n",
    "marathon_df"
   ]
  },
  {
   "cell_type": "code",
   "execution_count": 478,
   "id": "01be90a9",
   "metadata": {},
   "outputs": [
    {
     "data": {
      "text/plain": [
       "Sex\n",
       "Female    38\n",
       "Male      41\n",
       "Name: Age, dtype: int64"
      ]
     },
     "execution_count": 478,
     "metadata": {},
     "output_type": "execute_result"
    }
   ],
   "source": [
    "# group by sex and calculate the average total age\n",
    "\n",
    "avg_age_by_sex = marathon_df.groupby(\"Sex\")[\"Age\"].mean().astype(int)\n",
    "avg_age_by_sex"
   ]
  },
  {
   "cell_type": "markdown",
   "id": "be8ccbb1",
   "metadata": {},
   "source": [
    "Finding the average age by sex. Is there a significant difference?"
   ]
  },
  {
   "cell_type": "code",
   "execution_count": 479,
   "id": "1faea827",
   "metadata": {},
   "outputs": [
    {
     "data": {
      "image/png": "[encoded data removed]",
      "text/plain": [
       "<Figure size 800x800 with 1 Axes>"
      ]
     },
     "metadata": {},
     "output_type": "display_data"
    }
   ],
   "source": [
    "\n",
    "plt.figure(figsize=(8,8))\n",
    "plt.pie(\n",
    "    avg_age_by_sex,\n",
    "    labels=None,\n",
    "    startangle=110,\n",
    "    colors=[\"#aa109b\", \"blue\"],\n",
    "    autopct=\"%1.1f%%\",\n",
    "    textprops={'color': \"white\"})\n",
    "\n",
    "plt.title(\"Average Age of Women vs Men in Fall Marathons (2016-2019)\")\n",
    "\n",
    "plt.legend(\n",
    "    labels = avg_age_by_sex.index, \n",
    "    loc=\"lower right\",\n",
    "    title = \"Sex\"\n",
    ")\n",
    "\n",
    "\n",
    "plt.show()"
   ]
  },
  {
   "cell_type": "code",
   "execution_count": 480,
   "id": "097cd9cc",
   "metadata": {},
   "outputs": [
    {
     "data": {
      "text/plain": [
       "array(['Richmond Marathon', 'Columbus Marathon', 'Wineglass Marathon',\n",
       "       'Lakefront Marathon', 'RnR Las Vegas Marathon',\n",
       "       'Fox Cities Marathon', 'Madison Marathon', 'Air Force Marathon',\n",
       "       'Atlantic City Marathon', 'Cape Cod Marathon',\n",
       "       'Steamtown Marathon', 'Seattle Marathon', 'Grand Rapids Marathon',\n",
       "       'Detroit International Marathon', 'Hartford Marathon',\n",
       "       'Space Coast Marathon', 'Twin Cities Marathon',\n",
       "       'REVEL Canyon City Marathon', 'Maine Marathon',\n",
       "       'Portland Oregon Marathon', 'Kansas City Marathon',\n",
       "       'Des Moines Marathon', 'Long Beach Marathon',\n",
       "       'Erie Marathon at Presque Isle', 'St. George Marathon',\n",
       "       'Indianapolis Monumental Marathon', 'Route 66 Marathon',\n",
       "       'The Tunnel Lite Marathon', 'Mohawk-Hudson River Marathon',\n",
       "       'Baystate Marathon', 'Moab Trail Marathon',\n",
       "       'Mount Desert Island marathon', 'Akron Marathon', 'Via Marathon',\n",
       "       'Milwaukee Running Festival Marathon', 'Omaha Marathon',\n",
       "       'VENTURA MARATHON', 'Equinox Marathon', 'Baltimore Marathon',\n",
       "       'City of Oaks Marathon', \"Charlotte's Thunder Road Marathon\",\n",
       "       'Big Cottonwood Marathon', 'Portland Marathon',\n",
       "       'Harrisburg Marathon', 'RnR Savannah Marathon',\n",
       "       'REVEL Big Bear and Half Marathon', 'PORTLANDATHON',\n",
       "       'Naperville Marathon', 'Fox Valley Marathon', 'OBX Marathon',\n",
       "       'Brooklyn Marathon', 'Mo Cowbell Marathon', 'Chicago Marathon',\n",
       "       'NYC Marathon', 'Philadelphia Marathon', 'Marine Corps Marathon'],\n",
       "      dtype=object)"
      ]
     },
     "execution_count": 480,
     "metadata": {},
     "output_type": "execute_result"
    }
   ],
   "source": [
    "# determine what races are included\n",
    "\n",
    "marathon_df['Race'].unique()"
   ]
  },
  {
   "cell_type": "code",
   "execution_count": 481,
   "id": "113fd577",
   "metadata": {},
   "outputs": [
    {
     "data": {
      "text/plain": [
       "Race\n",
       "Air Force Marathon                     42\n",
       "Akron Marathon                         40\n",
       "Atlantic City Marathon                 41\n",
       "Baltimore Marathon                     38\n",
       "Baystate Marathon                      39\n",
       "Big Cottonwood Marathon                40\n",
       "Brooklyn Marathon                      35\n",
       "Cape Cod Marathon                      39\n",
       "Charlotte's Thunder Road Marathon      38\n",
       "Chicago Marathon                       41\n",
       "City of Oaks Marathon                  37\n",
       "Columbus Marathon                      37\n",
       "Des Moines Marathon                    39\n",
       "Detroit International Marathon         19\n",
       "Equinox Marathon                       41\n",
       "Erie Marathon at Presque Isle          42\n",
       "Fox Cities Marathon                    42\n",
       "Fox Valley Marathon                    42\n",
       "Grand Rapids Marathon                  40\n",
       "Harrisburg Marathon                    42\n",
       "Hartford Marathon                      40\n",
       "Indianapolis Monumental Marathon       41\n",
       "Kansas City Marathon                   39\n",
       "Lakefront Marathon                     39\n",
       "Long Beach Marathon                    41\n",
       "Madison Marathon                       37\n",
       "Maine Marathon                         39\n",
       "Marine Corps Marathon                  41\n",
       "Milwaukee Running Festival Marathon    39\n",
       "Mo Cowbell Marathon                    39\n",
       "Moab Trail Marathon                    40\n",
       "Mohawk-Hudson River Marathon           41\n",
       "Mount Desert Island marathon           40\n",
       "NYC Marathon                           41\n",
       "Naperville Marathon                    41\n",
       "OBX Marathon                           41\n",
       "Omaha Marathon                         40\n",
       "PORTLANDATHON                          41\n",
       "Philadelphia Marathon                  37\n",
       "Portland Marathon                      39\n",
       "Portland Oregon Marathon               39\n",
       "REVEL Big Bear and Half Marathon       46\n",
       "REVEL Canyon City Marathon             43\n",
       "Richmond Marathon                      39\n",
       "RnR Las Vegas Marathon                 11\n",
       "RnR Savannah Marathon                  23\n",
       "Route 66 Marathon                      42\n",
       "Seattle Marathon                       37\n",
       "Space Coast Marathon                   43\n",
       "St. George Marathon                    41\n",
       "Steamtown Marathon                     41\n",
       "The Tunnel Lite Marathon               46\n",
       "Twin Cities Marathon                   37\n",
       "VENTURA MARATHON                       40\n",
       "Via Marathon                           40\n",
       "Wineglass Marathon                     41\n",
       "Name: Age, dtype: int64"
      ]
     },
     "execution_count": 481,
     "metadata": {},
     "output_type": "execute_result"
    }
   ],
   "source": [
    "# group by race and calculate average age\n",
    "\n",
    "avg_age_by_race = marathon_df.groupby(\"Race\")[\"Age\"].mean().astype(int)\n",
    "avg_age_by_race"
   ]
  },
  {
   "cell_type": "markdown",
   "id": "1d62060d",
   "metadata": {},
   "source": [
    "I ran a horizontal bar char and the number of races made it unreadable. Split into 3rds "
   ]
  },
  {
   "cell_type": "code",
   "execution_count": 482,
   "id": "7cc7ac8e",
   "metadata": {},
   "outputs": [
    {
     "data": {
      "text/plain": [
       "56"
      ]
     },
     "execution_count": 482,
     "metadata": {},
     "output_type": "execute_result"
    }
   ],
   "source": [
    "# Find number of unique races\n",
    "\n",
    "total_unique_races = (marathon_df['Race'].nunique())\n",
    "total_unique_races"
   ]
  },
  {
   "cell_type": "code",
   "execution_count": 483,
   "id": "31a67274",
   "metadata": {},
   "outputs": [
    {
     "data": {
      "text/plain": [
       "18"
      ]
     },
     "execution_count": 483,
     "metadata": {},
     "output_type": "execute_result"
    }
   ],
   "source": [
    "# Determine the size of each third\n",
    "\n",
    "third_of_races_int = total_unique_races // 3\n",
    "third_of_races_int\n"
   ]
  },
  {
   "cell_type": "code",
   "execution_count": 484,
   "id": "a3551bfc",
   "metadata": {},
   "outputs": [],
   "source": [
    "# Get all diff race names \n",
    "\n",
    "unique_races = sorted(marathon_df['Race'].unique())\n",
    "\n",
    "# Calculate how many races per third\n",
    "\n",
    "third_of_races_int = len(unique_races) // 3  \n",
    "\n",
    "# Divide the race names into thirds\n",
    "\n",
    "races_first_third = unique_races[:third_of_races_int]\n",
    "races_second_third = unique_races[third_of_races_int:2 * third_of_races_int]\n",
    "races_final_third = unique_races[2 * third_of_races_int:]\n",
    "\n",
    "# Filter based on race name\n",
    "\n",
    "marathon_df_first_third = marathon_df[marathon_df['Race'].isin(races_first_third)]\n",
    "marathon_df_second_third = marathon_df[marathon_df['Race'].isin(races_second_third)]\n",
    "marathon_df_final_third = marathon_df[marathon_df['Race'].isin(races_final_third)]\n"
   ]
  },
  {
   "cell_type": "code",
   "execution_count": 485,
   "id": "cc10fd48",
   "metadata": {},
   "outputs": [
    {
     "data": {
      "text/html": [
       "<div>\n",
       "<style scoped>\n",
       "    .dataframe tbody tr th:only-of-type {\n",
       "        vertical-align: middle;\n",
       "    }\n",
       "\n",
       "    .dataframe tbody tr th {\n",
       "        vertical-align: top;\n",
       "    }\n",
       "\n",
       "    .dataframe thead th {\n",
       "        text-align: right;\n",
       "    }\n",
       "</style>\n",
       "<table border=\"1\" class=\"dataframe\">\n",
       "  <thead>\n",
       "    <tr style=\"text-align: right;\">\n",
       "      <th></th>\n",
       "      <th>Race</th>\n",
       "      <th>Year</th>\n",
       "      <th>Name</th>\n",
       "      <th>Sex</th>\n",
       "      <th>Age</th>\n",
       "      <th>Finish</th>\n",
       "      <th>Age Bracket</th>\n",
       "    </tr>\n",
       "  </thead>\n",
       "  <tbody>\n",
       "    <tr>\n",
       "      <th>200</th>\n",
       "      <td>Columbus Marathon</td>\n",
       "      <td>2018</td>\n",
       "      <td>Elijah Rugut</td>\n",
       "      <td>Male</td>\n",
       "      <td>29</td>\n",
       "      <td>8566</td>\n",
       "      <td>Under 35</td>\n",
       "    </tr>\n",
       "    <tr>\n",
       "      <th>201</th>\n",
       "      <td>Columbus Marathon</td>\n",
       "      <td>2018</td>\n",
       "      <td>Josh Ordway</td>\n",
       "      <td>Male</td>\n",
       "      <td>38</td>\n",
       "      <td>8612</td>\n",
       "      <td>35-39</td>\n",
       "    </tr>\n",
       "    <tr>\n",
       "      <th>202</th>\n",
       "      <td>Columbus Marathon</td>\n",
       "      <td>2018</td>\n",
       "      <td>Brent Martin</td>\n",
       "      <td>Male</td>\n",
       "      <td>34</td>\n",
       "      <td>8659</td>\n",
       "      <td>Under 35</td>\n",
       "    </tr>\n",
       "    <tr>\n",
       "      <th>203</th>\n",
       "      <td>Columbus Marathon</td>\n",
       "      <td>2018</td>\n",
       "      <td>Luke Hickman</td>\n",
       "      <td>Male</td>\n",
       "      <td>25</td>\n",
       "      <td>8694</td>\n",
       "      <td>Under 35</td>\n",
       "    </tr>\n",
       "    <tr>\n",
       "      <th>204</th>\n",
       "      <td>Columbus Marathon</td>\n",
       "      <td>2018</td>\n",
       "      <td>Fan Zhou</td>\n",
       "      <td>Male</td>\n",
       "      <td>30</td>\n",
       "      <td>8744</td>\n",
       "      <td>Under 35</td>\n",
       "    </tr>\n",
       "  </tbody>\n",
       "</table>\n",
       "</div>"
      ],
      "text/plain": [
       "                  Race  Year          Name   Sex  Age  Finish Age Bracket\n",
       "200  Columbus Marathon  2018  Elijah Rugut  Male   29    8566    Under 35\n",
       "201  Columbus Marathon  2018   Josh Ordway  Male   38    8612       35-39\n",
       "202  Columbus Marathon  2018  Brent Martin  Male   34    8659    Under 35\n",
       "203  Columbus Marathon  2018  Luke Hickman  Male   25    8694    Under 35\n",
       "204  Columbus Marathon  2018      Fan Zhou  Male   30    8744    Under 35"
      ]
     },
     "execution_count": 485,
     "metadata": {},
     "output_type": "execute_result"
    }
   ],
   "source": [
    "# Verify splits and check each is different\n",
    "\n",
    "marathon_df_first_third.head()"
   ]
  },
  {
   "cell_type": "code",
   "execution_count": 486,
   "id": "d0abdadb",
   "metadata": {},
   "outputs": [
    {
     "data": {
      "text/html": [
       "<div>\n",
       "<style scoped>\n",
       "    .dataframe tbody tr th:only-of-type {\n",
       "        vertical-align: middle;\n",
       "    }\n",
       "\n",
       "    .dataframe tbody tr th {\n",
       "        vertical-align: top;\n",
       "    }\n",
       "\n",
       "    .dataframe thead th {\n",
       "        text-align: right;\n",
       "    }\n",
       "</style>\n",
       "<table border=\"1\" class=\"dataframe\">\n",
       "  <thead>\n",
       "    <tr style=\"text-align: right;\">\n",
       "      <th></th>\n",
       "      <th>Race</th>\n",
       "      <th>Year</th>\n",
       "      <th>Name</th>\n",
       "      <th>Sex</th>\n",
       "      <th>Age</th>\n",
       "      <th>Finish</th>\n",
       "      <th>Age Bracket</th>\n",
       "    </tr>\n",
       "  </thead>\n",
       "  <tbody>\n",
       "    <tr>\n",
       "      <th>400</th>\n",
       "      <td>Lakefront Marathon</td>\n",
       "      <td>2017</td>\n",
       "      <td>KATHERINE ALFT</td>\n",
       "      <td>Female</td>\n",
       "      <td>35</td>\n",
       "      <td>13899</td>\n",
       "      <td>35-39</td>\n",
       "    </tr>\n",
       "    <tr>\n",
       "      <th>401</th>\n",
       "      <td>Lakefront Marathon</td>\n",
       "      <td>2017</td>\n",
       "      <td>JACLYN MORELL</td>\n",
       "      <td>Female</td>\n",
       "      <td>23</td>\n",
       "      <td>13901</td>\n",
       "      <td>Under 35</td>\n",
       "    </tr>\n",
       "    <tr>\n",
       "      <th>402</th>\n",
       "      <td>Lakefront Marathon</td>\n",
       "      <td>2017</td>\n",
       "      <td>LYNDSAY SMANZ</td>\n",
       "      <td>Female</td>\n",
       "      <td>35</td>\n",
       "      <td>13902</td>\n",
       "      <td>35-39</td>\n",
       "    </tr>\n",
       "    <tr>\n",
       "      <th>403</th>\n",
       "      <td>Lakefront Marathon</td>\n",
       "      <td>2017</td>\n",
       "      <td>RICHARD IMMESBERGER</td>\n",
       "      <td>Male</td>\n",
       "      <td>52</td>\n",
       "      <td>13904</td>\n",
       "      <td>50-54</td>\n",
       "    </tr>\n",
       "    <tr>\n",
       "      <th>404</th>\n",
       "      <td>Lakefront Marathon</td>\n",
       "      <td>2017</td>\n",
       "      <td>PAUL SIVANICH</td>\n",
       "      <td>Male</td>\n",
       "      <td>65</td>\n",
       "      <td>13904</td>\n",
       "      <td>65-69</td>\n",
       "    </tr>\n",
       "  </tbody>\n",
       "</table>\n",
       "</div>"
      ],
      "text/plain": [
       "                   Race  Year                 Name     Sex  Age  Finish  \\\n",
       "400  Lakefront Marathon  2017       KATHERINE ALFT  Female   35   13899   \n",
       "401  Lakefront Marathon  2017        JACLYN MORELL  Female   23   13901   \n",
       "402  Lakefront Marathon  2017        LYNDSAY SMANZ  Female   35   13902   \n",
       "403  Lakefront Marathon  2017  RICHARD IMMESBERGER    Male   52   13904   \n",
       "404  Lakefront Marathon  2017        PAUL SIVANICH    Male   65   13904   \n",
       "\n",
       "    Age Bracket  \n",
       "400       35-39  \n",
       "401    Under 35  \n",
       "402       35-39  \n",
       "403       50-54  \n",
       "404       65-69  "
      ]
     },
     "execution_count": 486,
     "metadata": {},
     "output_type": "execute_result"
    }
   ],
   "source": [
    "marathon_df_second_third.head()"
   ]
  },
  {
   "cell_type": "code",
   "execution_count": 487,
   "id": "ae013c87",
   "metadata": {},
   "outputs": [
    {
     "data": {
      "text/html": [
       "<div>\n",
       "<style scoped>\n",
       "    .dataframe tbody tr th:only-of-type {\n",
       "        vertical-align: middle;\n",
       "    }\n",
       "\n",
       "    .dataframe tbody tr th {\n",
       "        vertical-align: top;\n",
       "    }\n",
       "\n",
       "    .dataframe thead th {\n",
       "        text-align: right;\n",
       "    }\n",
       "</style>\n",
       "<table border=\"1\" class=\"dataframe\">\n",
       "  <thead>\n",
       "    <tr style=\"text-align: right;\">\n",
       "      <th></th>\n",
       "      <th>Race</th>\n",
       "      <th>Year</th>\n",
       "      <th>Name</th>\n",
       "      <th>Sex</th>\n",
       "      <th>Age</th>\n",
       "      <th>Finish</th>\n",
       "      <th>Age Bracket</th>\n",
       "    </tr>\n",
       "  </thead>\n",
       "  <tbody>\n",
       "    <tr>\n",
       "      <th>0</th>\n",
       "      <td>Richmond Marathon</td>\n",
       "      <td>2019</td>\n",
       "      <td>DAWN STADNYK</td>\n",
       "      <td>Female</td>\n",
       "      <td>43</td>\n",
       "      <td>12847</td>\n",
       "      <td>40-44</td>\n",
       "    </tr>\n",
       "    <tr>\n",
       "      <th>1</th>\n",
       "      <td>Richmond Marathon</td>\n",
       "      <td>2019</td>\n",
       "      <td>ANDREW MARTIN</td>\n",
       "      <td>Male</td>\n",
       "      <td>27</td>\n",
       "      <td>12812</td>\n",
       "      <td>Under 35</td>\n",
       "    </tr>\n",
       "    <tr>\n",
       "      <th>2</th>\n",
       "      <td>Richmond Marathon</td>\n",
       "      <td>2019</td>\n",
       "      <td>CAROL BRAUN</td>\n",
       "      <td>Female</td>\n",
       "      <td>56</td>\n",
       "      <td>12844</td>\n",
       "      <td>55-59</td>\n",
       "    </tr>\n",
       "    <tr>\n",
       "      <th>3</th>\n",
       "      <td>Richmond Marathon</td>\n",
       "      <td>2019</td>\n",
       "      <td>PETER EMERSON</td>\n",
       "      <td>Male</td>\n",
       "      <td>29</td>\n",
       "      <td>12816</td>\n",
       "      <td>Under 35</td>\n",
       "    </tr>\n",
       "    <tr>\n",
       "      <th>4</th>\n",
       "      <td>Richmond Marathon</td>\n",
       "      <td>2019</td>\n",
       "      <td>JACOB BARKER</td>\n",
       "      <td>Male</td>\n",
       "      <td>18</td>\n",
       "      <td>12831</td>\n",
       "      <td>Under 35</td>\n",
       "    </tr>\n",
       "  </tbody>\n",
       "</table>\n",
       "</div>"
      ],
      "text/plain": [
       "                Race  Year           Name     Sex  Age  Finish Age Bracket\n",
       "0  Richmond Marathon  2019   DAWN STADNYK  Female   43   12847       40-44\n",
       "1  Richmond Marathon  2019  ANDREW MARTIN    Male   27   12812    Under 35\n",
       "2  Richmond Marathon  2019    CAROL BRAUN  Female   56   12844       55-59\n",
       "3  Richmond Marathon  2019  PETER EMERSON    Male   29   12816    Under 35\n",
       "4  Richmond Marathon  2019   JACOB BARKER    Male   18   12831    Under 35"
      ]
     },
     "execution_count": 487,
     "metadata": {},
     "output_type": "execute_result"
    }
   ],
   "source": [
    "marathon_df_final_third.head()"
   ]
  },
  {
   "cell_type": "markdown",
   "id": "a681a127",
   "metadata": {},
   "source": [
    "Finding the average age of the fist third of marathons and call out youngest "
   ]
  },
  {
   "cell_type": "code",
   "execution_count": 488,
   "id": "9591530c",
   "metadata": {},
   "outputs": [
    {
     "data": {
      "text/plain": [
       "Race\n",
       "Air Force Marathon                   42\n",
       "Akron Marathon                       40\n",
       "Atlantic City Marathon               41\n",
       "Baltimore Marathon                   38\n",
       "Baystate Marathon                    39\n",
       "Big Cottonwood Marathon              40\n",
       "Brooklyn Marathon                    35\n",
       "Cape Cod Marathon                    39\n",
       "Charlotte's Thunder Road Marathon    38\n",
       "Chicago Marathon                     41\n",
       "City of Oaks Marathon                37\n",
       "Columbus Marathon                    37\n",
       "Des Moines Marathon                  39\n",
       "Detroit International Marathon       19\n",
       "Equinox Marathon                     41\n",
       "Erie Marathon at Presque Isle        42\n",
       "Fox Cities Marathon                  42\n",
       "Fox Valley Marathon                  42\n",
       "Name: Age, dtype: int64"
      ]
     },
     "execution_count": 488,
     "metadata": {},
     "output_type": "execute_result"
    }
   ],
   "source": [
    "# get average age of first third\n",
    "\n",
    "avg_age_by_first_third = marathon_df_first_third.groupby(\"Race\")[\"Age\"].mean().astype(int)\n",
    "avg_age_by_first_third"
   ]
  },
  {
   "cell_type": "markdown",
   "id": "30bcb398",
   "metadata": {},
   "source": [
    "Based off of the above info, there are no outliers in the oldest average age"
   ]
  },
  {
   "cell_type": "code",
   "execution_count": 489,
   "id": "7767af21",
   "metadata": {},
   "outputs": [
    {
     "data": {
      "image/png": "[encoded data removed]",
      "text/plain": [
       "<Figure size 640x480 with 1 Axes>"
      ]
     },
     "metadata": {},
     "output_type": "display_data"
    }
   ],
   "source": [
    "# plot the first third average age by race\n",
    "\n",
    "bar = plt.barh(avg_age_by_first_third.index, avg_age_by_first_third.values)\n",
    "bar[6].set_color('r')\n",
    "\n",
    "ax = plt.gca()\n",
    "ax.spines['top'].set_visible(False)\n",
    "ax.spines['right'].set_visible(False)\n",
    "\n",
    "plt.xlabel(\"Avg Age\")\n",
    "plt.ylabel(\"Race Name\")\n",
    "plt.title(\"Average Total Age by Race in Fall Marathon Data from 2016 - 2019\")\n",
    "plt.xticks(rotation=45, ha =\"right\")\n",
    "\n",
    "\n",
    "plt.tight_layout()\n",
    "plt.show()"
   ]
  },
  {
   "cell_type": "markdown",
   "id": "976f88e6",
   "metadata": {},
   "source": [
    "Finding the average age of the second third of marathons and call out any abnormalities.\n",
    "Testing a line graph to see if it is a better visualization"
   ]
  },
  {
   "cell_type": "code",
   "execution_count": 490,
   "id": "b85e8a4e",
   "metadata": {},
   "outputs": [
    {
     "data": {
      "text/plain": [
       "Race\n",
       "Grand Rapids Marathon                  40\n",
       "Harrisburg Marathon                    42\n",
       "Hartford Marathon                      40\n",
       "Indianapolis Monumental Marathon       41\n",
       "Kansas City Marathon                   39\n",
       "Lakefront Marathon                     39\n",
       "Long Beach Marathon                    41\n",
       "Madison Marathon                       37\n",
       "Maine Marathon                         39\n",
       "Marine Corps Marathon                  41\n",
       "Milwaukee Running Festival Marathon    39\n",
       "Mo Cowbell Marathon                    39\n",
       "Moab Trail Marathon                    40\n",
       "Mohawk-Hudson River Marathon           41\n",
       "Mount Desert Island marathon           40\n",
       "NYC Marathon                           41\n",
       "Naperville Marathon                    41\n",
       "OBX Marathon                           41\n",
       "Name: Age, dtype: int64"
      ]
     },
     "execution_count": 490,
     "metadata": {},
     "output_type": "execute_result"
    }
   ],
   "source": [
    "# get average age of second third\n",
    "\n",
    "avg_age_by_second_third = marathon_df_second_third.groupby(\"Race\")[\"Age\"].mean().astype(int)\n",
    "avg_age_by_second_third"
   ]
  },
  {
   "cell_type": "code",
   "execution_count": 491,
   "id": "9c8847b3",
   "metadata": {},
   "outputs": [
    {
     "data": {
      "image/png": "[encoded data removed]",
      "text/plain": [
       "<Figure size 1200x600 with 1 Axes>"
      ]
     },
     "metadata": {},
     "output_type": "display_data"
    }
   ],
   "source": [
    "# Get the race(s) with the youngest avg age and plot the final second average age by race \n",
    "\n",
    "youngest_race = avg_age_by_second_third.idxmin()\n",
    "youngest_age = avg_age_by_second_third.min()\n",
    "\n",
    "plt.figure(figsize=(12, 6))\n",
    "plt.plot(\n",
    "    avg_age_by_second_third.index, \n",
    "    avg_age_by_second_third.values,\n",
    "    marker=\"+\",\n",
    "    linestyle = \"--\",\n",
    "    color = \"#036b16\",\n",
    "    linewidth = 0.5)\n",
    "\n",
    "plt.xlabel(\"Race Name\")\n",
    "plt.ylabel(\"Avg Age\")\n",
    "plt.title(\"Average Total Age by Race in Fall Marathon Data from 2016 - 2019\", fontsize = 18, pad=20)\n",
    "plt.xticks(rotation=45, ha =\"right\")\n",
    "\n",
    "ax = plt.gca()\n",
    "ax.spines[\"top\"].set_visible(False)\n",
    "ax.spines[\"right\"].set_visible(False)\n",
    "\n",
    "\n",
    "plt.tight_layout()\n",
    "\n",
    "plt.ylim(35, 50)\n",
    "plt.show()"
   ]
  },
  {
   "cell_type": "markdown",
   "id": "fb802004",
   "metadata": {},
   "source": [
    "Finding the average age of the final third of marathons and call out youngest and oldest\n",
    "Was not impressed with the line graph, will change for final"
   ]
  },
  {
   "cell_type": "code",
   "execution_count": 492,
   "id": "f36af5ff",
   "metadata": {},
   "outputs": [
    {
     "data": {
      "text/plain": [
       "Race\n",
       "Omaha Marathon                      40\n",
       "PORTLANDATHON                       41\n",
       "Philadelphia Marathon               37\n",
       "Portland Marathon                   39\n",
       "Portland Oregon Marathon            39\n",
       "REVEL Big Bear and Half Marathon    46\n",
       "REVEL Canyon City Marathon          43\n",
       "Richmond Marathon                   39\n",
       "RnR Las Vegas Marathon              11\n",
       "RnR Savannah Marathon               23\n",
       "Route 66 Marathon                   42\n",
       "Seattle Marathon                    37\n",
       "Space Coast Marathon                43\n",
       "St. George Marathon                 41\n",
       "Steamtown Marathon                  41\n",
       "The Tunnel Lite Marathon            46\n",
       "Twin Cities Marathon                37\n",
       "VENTURA MARATHON                    40\n",
       "Via Marathon                        40\n",
       "Wineglass Marathon                  41\n",
       "Name: Age, dtype: int64"
      ]
     },
     "execution_count": 492,
     "metadata": {},
     "output_type": "execute_result"
    }
   ],
   "source": [
    "# get average age of final third\n",
    "\n",
    "avg_age_by_final_third = marathon_df_final_third.groupby(\"Race\")[\"Age\"].mean().astype(int)\n",
    "avg_age_by_final_third"
   ]
  },
  {
   "cell_type": "code",
   "execution_count": 493,
   "id": "a760faa4",
   "metadata": {},
   "outputs": [
    {
     "data": {
      "image/png": "[encoded data removed]",
      "text/plain": [
       "<Figure size 640x480 with 1 Axes>"
      ]
     },
     "metadata": {},
     "output_type": "display_data"
    }
   ],
   "source": [
    "bar = plt.barh(avg_age_by_final_third.index, avg_age_by_final_third.values)\n",
    "bar[3].set_color('r')\n",
    "bar[5].set_color('black')\n",
    "\n",
    "ax = plt.gca()\n",
    "ax.spines['top'].set_visible(False)\n",
    "ax.spines['right'].set_visible(False)\n",
    "\n",
    "plt.xlabel(\"Avg Age\")\n",
    "plt.ylabel(\"Race Name\")\n",
    "plt.title(\"Average Total Age by Race in Fall Marathon Data from 2016 - 2019\")\n",
    "plt.xticks(rotation=45, ha =\"right\")\n",
    "\n",
    "\n",
    "plt.tight_layout()\n",
    "plt.show()"
   ]
  },
  {
   "cell_type": "markdown",
   "id": "9fdde221",
   "metadata": {},
   "source": [
    "Finding the average age by year to see if there was a stand out year for marathons for youngest and oldest"
   ]
  },
  {
   "cell_type": "code",
   "execution_count": 494,
   "id": "5c50eac4",
   "metadata": {},
   "outputs": [
    {
     "data": {
      "text/html": [
       "<div>\n",
       "<style scoped>\n",
       "    .dataframe tbody tr th:only-of-type {\n",
       "        vertical-align: middle;\n",
       "    }\n",
       "\n",
       "    .dataframe tbody tr th {\n",
       "        vertical-align: top;\n",
       "    }\n",
       "\n",
       "    .dataframe thead th {\n",
       "        text-align: right;\n",
       "    }\n",
       "</style>\n",
       "<table border=\"1\" class=\"dataframe\">\n",
       "  <thead>\n",
       "    <tr style=\"text-align: right;\">\n",
       "      <th></th>\n",
       "      <th>Year</th>\n",
       "      <th>Average Age</th>\n",
       "      <th>Youngest Age</th>\n",
       "      <th>Oldest Age</th>\n",
       "    </tr>\n",
       "  </thead>\n",
       "  <tbody>\n",
       "    <tr>\n",
       "      <th>0</th>\n",
       "      <td>2016</td>\n",
       "      <td>39.764620</td>\n",
       "      <td>-1</td>\n",
       "      <td>116</td>\n",
       "    </tr>\n",
       "    <tr>\n",
       "      <th>1</th>\n",
       "      <td>2017</td>\n",
       "      <td>40.511194</td>\n",
       "      <td>-1</td>\n",
       "      <td>99</td>\n",
       "    </tr>\n",
       "    <tr>\n",
       "      <th>2</th>\n",
       "      <td>2018</td>\n",
       "      <td>39.363840</td>\n",
       "      <td>-1</td>\n",
       "      <td>99</td>\n",
       "    </tr>\n",
       "    <tr>\n",
       "      <th>3</th>\n",
       "      <td>2019</td>\n",
       "      <td>39.563117</td>\n",
       "      <td>-1</td>\n",
       "      <td>99</td>\n",
       "    </tr>\n",
       "  </tbody>\n",
       "</table>\n",
       "</div>"
      ],
      "text/plain": [
       "   Year  Average Age  Youngest Age  Oldest Age\n",
       "0  2016    39.764620            -1         116\n",
       "1  2017    40.511194            -1          99\n",
       "2  2018    39.363840            -1          99\n",
       "3  2019    39.563117            -1          99"
      ]
     },
     "execution_count": 494,
     "metadata": {},
     "output_type": "execute_result"
    }
   ],
   "source": [
    "# find average, yougest, and oldest by year\n",
    "\n",
    "youngest_and_oldest_by_year = marathon_df.groupby('Year')['Age'].agg(['mean', 'min', 'max']).reset_index()\n",
    "youngest_and_oldest_by_year.columns = ['Year', 'Average Age', 'Youngest Age', 'Oldest Age']\n",
    "youngest_and_oldest_by_year\n"
   ]
  },
  {
   "cell_type": "code",
   "execution_count": 495,
   "id": "59616277",
   "metadata": {},
   "outputs": [
    {
     "data": {
      "image/png": "[encoded data removed]",
      "text/plain": [
       "<Figure size 640x480 with 1 Axes>"
      ]
     },
     "metadata": {},
     "output_type": "display_data"
    }
   ],
   "source": [
    "# plot\n",
    "\n",
    "plt.Figure(figsize=(20, 10))\n",
    "plt.plot(youngest_and_oldest_by_year['Year'], youngest_and_oldest_by_year['Average Age'], label='Average Age', marker='x')\n",
    "plt.plot(youngest_and_oldest_by_year['Year'], youngest_and_oldest_by_year['Youngest Age'], label='Youngest Age', marker='d')\n",
    "plt.plot(youngest_and_oldest_by_year['Year'], youngest_and_oldest_by_year['Oldest Age'], label='Oldest Age', marker='o')\n",
    "\n",
    "plt.xlabel('Year')\n",
    "plt.ylabel('Age')\n",
    "plt.title('Ages by Year (2016-2019): Average, Youngest, Oldest')\n",
    "plt.legend()\n",
    "plt.grid(True)\n",
    "plt.xticks(youngest_and_oldest_by_year['Year'])\n",
    "plt.tight_layout()\n",
    "\n",
    "plt.show()"
   ]
  },
  {
   "cell_type": "markdown",
   "id": "8d041420",
   "metadata": {},
   "source": [
    "Humble not so humble brag that I have completed a marathon, and see where I fall in the overall average age"
   ]
  },
  {
   "cell_type": "markdown",
   "id": "d580475c",
   "metadata": {},
   "source": [
    "Possibly see where I stood in the overall avg age"
   ]
  },
  {
   "cell_type": "code",
   "execution_count": 496,
   "id": "1bb4de31",
   "metadata": {},
   "outputs": [
    {
     "data": {
      "text/html": [
       "<div>\n",
       "<style scoped>\n",
       "    .dataframe tbody tr th:only-of-type {\n",
       "        vertical-align: middle;\n",
       "    }\n",
       "\n",
       "    .dataframe tbody tr th {\n",
       "        vertical-align: top;\n",
       "    }\n",
       "\n",
       "    .dataframe thead th {\n",
       "        text-align: right;\n",
       "    }\n",
       "</style>\n",
       "<table border=\"1\" class=\"dataframe\">\n",
       "  <thead>\n",
       "    <tr style=\"text-align: right;\">\n",
       "      <th></th>\n",
       "      <th>Race</th>\n",
       "      <th>Year</th>\n",
       "      <th>Name</th>\n",
       "      <th>Sex</th>\n",
       "      <th>Age</th>\n",
       "      <th>Finish</th>\n",
       "      <th>Age Bracket</th>\n",
       "    </tr>\n",
       "  </thead>\n",
       "  <tbody>\n",
       "    <tr>\n",
       "      <th>7838</th>\n",
       "      <td>Indianapolis Monumental Marathon</td>\n",
       "      <td>2019</td>\n",
       "      <td>Rachael Meyer</td>\n",
       "      <td>Female</td>\n",
       "      <td>24</td>\n",
       "      <td>15494</td>\n",
       "      <td>Under 35</td>\n",
       "    </tr>\n",
       "    <tr>\n",
       "      <th>7839</th>\n",
       "      <td>Indianapolis Monumental Marathon</td>\n",
       "      <td>2019</td>\n",
       "      <td>Andrea Kjos</td>\n",
       "      <td>Female</td>\n",
       "      <td>39</td>\n",
       "      <td>15495</td>\n",
       "      <td>35-39</td>\n",
       "    </tr>\n",
       "    <tr>\n",
       "      <th>7840</th>\n",
       "      <td>Indianapolis Monumental Marathon</td>\n",
       "      <td>2019</td>\n",
       "      <td>Renee Guthrie</td>\n",
       "      <td>Female</td>\n",
       "      <td>39</td>\n",
       "      <td>15495</td>\n",
       "      <td>35-39</td>\n",
       "    </tr>\n",
       "    <tr>\n",
       "      <th>7841</th>\n",
       "      <td>Indianapolis Monumental Marathon</td>\n",
       "      <td>2019</td>\n",
       "      <td>Jesse Maas</td>\n",
       "      <td>Female</td>\n",
       "      <td>24</td>\n",
       "      <td>15501</td>\n",
       "      <td>Under 35</td>\n",
       "    </tr>\n",
       "    <tr>\n",
       "      <th>7842</th>\n",
       "      <td>Indianapolis Monumental Marathon</td>\n",
       "      <td>2019</td>\n",
       "      <td>Tony Blevins</td>\n",
       "      <td>Male</td>\n",
       "      <td>44</td>\n",
       "      <td>15502</td>\n",
       "      <td>40-44</td>\n",
       "    </tr>\n",
       "  </tbody>\n",
       "</table>\n",
       "</div>"
      ],
      "text/plain": [
       "                                  Race  Year           Name     Sex  Age  \\\n",
       "7838  Indianapolis Monumental Marathon  2019  Rachael Meyer  Female   24   \n",
       "7839  Indianapolis Monumental Marathon  2019    Andrea Kjos  Female   39   \n",
       "7840  Indianapolis Monumental Marathon  2019  Renee Guthrie  Female   39   \n",
       "7841  Indianapolis Monumental Marathon  2019     Jesse Maas  Female   24   \n",
       "7842  Indianapolis Monumental Marathon  2019   Tony Blevins    Male   44   \n",
       "\n",
       "      Finish Age Bracket  \n",
       "7838   15494    Under 35  \n",
       "7839   15495       35-39  \n",
       "7840   15495       35-39  \n",
       "7841   15501    Under 35  \n",
       "7842   15502       40-44  "
      ]
     },
     "execution_count": 496,
     "metadata": {},
     "output_type": "execute_result"
    }
   ],
   "source": [
    "# narrow dataset down to the marathon I completed\n",
    "\n",
    "monumental_marathon_2019 = marathon_df[(marathon_df['Year'] == 2019) & (marathon_df['Race'] == 'Indianapolis Monumental Marathon')]\n",
    "monumental_marathon_2019.head()"
   ]
  },
  {
   "cell_type": "code",
   "execution_count": 497,
   "id": "9b770b0e",
   "metadata": {},
   "outputs": [],
   "source": [
    "# create a csv of Indy Monumental\n",
    "\n",
    "monumental_marathon_2019.to_csv('Indianapolis Monumental Marathon 2019')"
   ]
  },
  {
   "cell_type": "code",
   "execution_count": 498,
   "id": "06384337",
   "metadata": {},
   "outputs": [
    {
     "data": {
      "text/plain": [
       "Race           Indianapolis Monumental Marathon\n",
       "Year                                       2019\n",
       "Name                              Marie Connors\n",
       "Sex                                      Female\n",
       "Age                                          64\n",
       "Finish                                    24687\n",
       "Age Bracket                               60-64\n",
       "Name: 182308, dtype: object"
      ]
     },
     "execution_count": 498,
     "metadata": {},
     "output_type": "execute_result"
    }
   ],
   "source": [
    "# Get my stats\n",
    "\n",
    "my_time = monumental_marathon_2019.iloc[2243]\n",
    "my_time"
   ]
  },
  {
   "cell_type": "code",
   "execution_count": 499,
   "id": "d2ca3145",
   "metadata": {},
   "outputs": [
    {
     "data": {
      "text/plain": [
       "np.int64(39)"
      ]
     },
     "execution_count": 499,
     "metadata": {},
     "output_type": "execute_result"
    }
   ],
   "source": [
    "# Get average of all ages in all years\n",
    "\n",
    "my_age = 39\n",
    "total_avg_age = marathon_df['Age'].mean().astype(int)\n",
    "total_avg_age\n"
   ]
  },
  {
   "cell_type": "code",
   "execution_count": 500,
   "id": "49e4afbe",
   "metadata": {},
   "outputs": [
    {
     "data": {
      "image/png": "[encoded data removed]",
      "text/plain": [
       "<Figure size 600x400 with 1 Axes>"
      ]
     },
     "metadata": {},
     "output_type": "display_data"
    }
   ],
   "source": [
    "# compare my age to avg age for marathon finishers 2015*2019\n",
    "\n",
    "plt.figure(figsize=(6,4))\n",
    "plt.bar(['Total Avg Age', 'My Age'], [total_avg_age, my_age], color=['blue', 'black'])\n",
    "plt.ylabel('Age')\n",
    "plt.title('My Age vs Total Avg Age Marathon Finisher (2016 - 2019)')\n",
    "plt.xticks(rotation=45, ha =\"right\")\n",
    "\n",
    "ax = plt.gca()\n",
    "ax.spines['top'].set_visible(False)\n",
    "ax.spines['right'].set_visible(False)\n",
    "\n",
    "plt.show()"
   ]
  },
  {
   "cell_type": "markdown",
   "id": "168c9c6f",
   "metadata": {},
   "source": [
    "Import Ultra Marathon csv. Reduced size. Origingal 740.0+ MB"
   ]
  },
  {
   "cell_type": "code",
   "execution_count": 501,
   "id": "1f35ff6d",
   "metadata": {},
   "outputs": [
    {
     "ename": "FileNotFoundError",
     "evalue": "[Errno 2] No such file or directory: '/Users/justinmasters/Documents/DA_prereq_Justin_Masters/Notebooks/Age_and_Endurance/Data/TWO_CENTURIES_OF_UM_RACES.csv'",
     "output_type": "error",
     "traceback": [
      "\u001b[31m---------------------------------------------------------------------------\u001b[39m",
      "\u001b[31mFileNotFoundError\u001b[39m                         Traceback (most recent call last)",
      "\u001b[36mCell\u001b[39m\u001b[36m \u001b[39m\u001b[32mIn[501]\u001b[39m\u001b[32m, line 3\u001b[39m\n\u001b[32m      1\u001b[39m \u001b[38;5;66;03m# Import new csv\u001b[39;00m\n\u001b[32m----> \u001b[39m\u001b[32m3\u001b[39m um_df = \u001b[43mpd\u001b[49m\u001b[43m.\u001b[49m\u001b[43mread_csv\u001b[49m\u001b[43m(\u001b[49m\u001b[33;43m\"\u001b[39;49m\u001b[33;43m/Users/justinmasters/Documents/DA_prereq_Justin_Masters/Notebooks/Age_and_Endurance/Data/TWO_CENTURIES_OF_UM_RACES.csv\u001b[39;49m\u001b[33;43m\"\u001b[39;49m\u001b[43m)\u001b[49m\n\u001b[32m      4\u001b[39m um_df.head()\n",
      "\u001b[36mFile \u001b[39m\u001b[32m~/Documents/DA_prereq_Justin_Masters/Notebooks/Age_and_Endurance/env/lib/python3.13/site-packages/pandas/io/parsers/readers.py:1026\u001b[39m, in \u001b[36mread_csv\u001b[39m\u001b[34m(filepath_or_buffer, sep, delimiter, header, names, index_col, usecols, dtype, engine, converters, true_values, false_values, skipinitialspace, skiprows, skipfooter, nrows, na_values, keep_default_na, na_filter, verbose, skip_blank_lines, parse_dates, infer_datetime_format, keep_date_col, date_parser, date_format, dayfirst, cache_dates, iterator, chunksize, compression, thousands, decimal, lineterminator, quotechar, quoting, doublequote, escapechar, comment, encoding, encoding_errors, dialect, on_bad_lines, delim_whitespace, low_memory, memory_map, float_precision, storage_options, dtype_backend)\u001b[39m\n\u001b[32m   1013\u001b[39m kwds_defaults = _refine_defaults_read(\n\u001b[32m   1014\u001b[39m     dialect,\n\u001b[32m   1015\u001b[39m     delimiter,\n\u001b[32m   (...)\u001b[39m\u001b[32m   1022\u001b[39m     dtype_backend=dtype_backend,\n\u001b[32m   1023\u001b[39m )\n\u001b[32m   1024\u001b[39m kwds.update(kwds_defaults)\n\u001b[32m-> \u001b[39m\u001b[32m1026\u001b[39m \u001b[38;5;28;01mreturn\u001b[39;00m \u001b[43m_read\u001b[49m\u001b[43m(\u001b[49m\u001b[43mfilepath_or_buffer\u001b[49m\u001b[43m,\u001b[49m\u001b[43m \u001b[49m\u001b[43mkwds\u001b[49m\u001b[43m)\u001b[49m\n",
      "\u001b[36mFile \u001b[39m\u001b[32m~/Documents/DA_prereq_Justin_Masters/Notebooks/Age_and_Endurance/env/lib/python3.13/site-packages/pandas/io/parsers/readers.py:620\u001b[39m, in \u001b[36m_read\u001b[39m\u001b[34m(filepath_or_buffer, kwds)\u001b[39m\n\u001b[32m    617\u001b[39m _validate_names(kwds.get(\u001b[33m\"\u001b[39m\u001b[33mnames\u001b[39m\u001b[33m\"\u001b[39m, \u001b[38;5;28;01mNone\u001b[39;00m))\n\u001b[32m    619\u001b[39m \u001b[38;5;66;03m# Create the parser.\u001b[39;00m\n\u001b[32m--> \u001b[39m\u001b[32m620\u001b[39m parser = \u001b[43mTextFileReader\u001b[49m\u001b[43m(\u001b[49m\u001b[43mfilepath_or_buffer\u001b[49m\u001b[43m,\u001b[49m\u001b[43m \u001b[49m\u001b[43m*\u001b[49m\u001b[43m*\u001b[49m\u001b[43mkwds\u001b[49m\u001b[43m)\u001b[49m\n\u001b[32m    622\u001b[39m \u001b[38;5;28;01mif\u001b[39;00m chunksize \u001b[38;5;129;01mor\u001b[39;00m iterator:\n\u001b[32m    623\u001b[39m     \u001b[38;5;28;01mreturn\u001b[39;00m parser\n",
      "\u001b[36mFile \u001b[39m\u001b[32m~/Documents/DA_prereq_Justin_Masters/Notebooks/Age_and_Endurance/env/lib/python3.13/site-packages/pandas/io/parsers/readers.py:1620\u001b[39m, in \u001b[36mTextFileReader.__init__\u001b[39m\u001b[34m(self, f, engine, **kwds)\u001b[39m\n\u001b[32m   1617\u001b[39m     \u001b[38;5;28mself\u001b[39m.options[\u001b[33m\"\u001b[39m\u001b[33mhas_index_names\u001b[39m\u001b[33m\"\u001b[39m] = kwds[\u001b[33m\"\u001b[39m\u001b[33mhas_index_names\u001b[39m\u001b[33m\"\u001b[39m]\n\u001b[32m   1619\u001b[39m \u001b[38;5;28mself\u001b[39m.handles: IOHandles | \u001b[38;5;28;01mNone\u001b[39;00m = \u001b[38;5;28;01mNone\u001b[39;00m\n\u001b[32m-> \u001b[39m\u001b[32m1620\u001b[39m \u001b[38;5;28mself\u001b[39m._engine = \u001b[38;5;28;43mself\u001b[39;49m\u001b[43m.\u001b[49m\u001b[43m_make_engine\u001b[49m\u001b[43m(\u001b[49m\u001b[43mf\u001b[49m\u001b[43m,\u001b[49m\u001b[43m \u001b[49m\u001b[38;5;28;43mself\u001b[39;49m\u001b[43m.\u001b[49m\u001b[43mengine\u001b[49m\u001b[43m)\u001b[49m\n",
      "\u001b[36mFile \u001b[39m\u001b[32m~/Documents/DA_prereq_Justin_Masters/Notebooks/Age_and_Endurance/env/lib/python3.13/site-packages/pandas/io/parsers/readers.py:1880\u001b[39m, in \u001b[36mTextFileReader._make_engine\u001b[39m\u001b[34m(self, f, engine)\u001b[39m\n\u001b[32m   1878\u001b[39m     \u001b[38;5;28;01mif\u001b[39;00m \u001b[33m\"\u001b[39m\u001b[33mb\u001b[39m\u001b[33m\"\u001b[39m \u001b[38;5;129;01mnot\u001b[39;00m \u001b[38;5;129;01min\u001b[39;00m mode:\n\u001b[32m   1879\u001b[39m         mode += \u001b[33m\"\u001b[39m\u001b[33mb\u001b[39m\u001b[33m\"\u001b[39m\n\u001b[32m-> \u001b[39m\u001b[32m1880\u001b[39m \u001b[38;5;28mself\u001b[39m.handles = \u001b[43mget_handle\u001b[49m\u001b[43m(\u001b[49m\n\u001b[32m   1881\u001b[39m \u001b[43m    \u001b[49m\u001b[43mf\u001b[49m\u001b[43m,\u001b[49m\n\u001b[32m   1882\u001b[39m \u001b[43m    \u001b[49m\u001b[43mmode\u001b[49m\u001b[43m,\u001b[49m\n\u001b[32m   1883\u001b[39m \u001b[43m    \u001b[49m\u001b[43mencoding\u001b[49m\u001b[43m=\u001b[49m\u001b[38;5;28;43mself\u001b[39;49m\u001b[43m.\u001b[49m\u001b[43moptions\u001b[49m\u001b[43m.\u001b[49m\u001b[43mget\u001b[49m\u001b[43m(\u001b[49m\u001b[33;43m\"\u001b[39;49m\u001b[33;43mencoding\u001b[39;49m\u001b[33;43m\"\u001b[39;49m\u001b[43m,\u001b[49m\u001b[43m \u001b[49m\u001b[38;5;28;43;01mNone\u001b[39;49;00m\u001b[43m)\u001b[49m\u001b[43m,\u001b[49m\n\u001b[32m   1884\u001b[39m \u001b[43m    \u001b[49m\u001b[43mcompression\u001b[49m\u001b[43m=\u001b[49m\u001b[38;5;28;43mself\u001b[39;49m\u001b[43m.\u001b[49m\u001b[43moptions\u001b[49m\u001b[43m.\u001b[49m\u001b[43mget\u001b[49m\u001b[43m(\u001b[49m\u001b[33;43m\"\u001b[39;49m\u001b[33;43mcompression\u001b[39;49m\u001b[33;43m\"\u001b[39;49m\u001b[43m,\u001b[49m\u001b[43m \u001b[49m\u001b[38;5;28;43;01mNone\u001b[39;49;00m\u001b[43m)\u001b[49m\u001b[43m,\u001b[49m\n\u001b[32m   1885\u001b[39m \u001b[43m    \u001b[49m\u001b[43mmemory_map\u001b[49m\u001b[43m=\u001b[49m\u001b[38;5;28;43mself\u001b[39;49m\u001b[43m.\u001b[49m\u001b[43moptions\u001b[49m\u001b[43m.\u001b[49m\u001b[43mget\u001b[49m\u001b[43m(\u001b[49m\u001b[33;43m\"\u001b[39;49m\u001b[33;43mmemory_map\u001b[39;49m\u001b[33;43m\"\u001b[39;49m\u001b[43m,\u001b[49m\u001b[43m \u001b[49m\u001b[38;5;28;43;01mFalse\u001b[39;49;00m\u001b[43m)\u001b[49m\u001b[43m,\u001b[49m\n\u001b[32m   1886\u001b[39m \u001b[43m    \u001b[49m\u001b[43mis_text\u001b[49m\u001b[43m=\u001b[49m\u001b[43mis_text\u001b[49m\u001b[43m,\u001b[49m\n\u001b[32m   1887\u001b[39m \u001b[43m    \u001b[49m\u001b[43merrors\u001b[49m\u001b[43m=\u001b[49m\u001b[38;5;28;43mself\u001b[39;49m\u001b[43m.\u001b[49m\u001b[43moptions\u001b[49m\u001b[43m.\u001b[49m\u001b[43mget\u001b[49m\u001b[43m(\u001b[49m\u001b[33;43m\"\u001b[39;49m\u001b[33;43mencoding_errors\u001b[39;49m\u001b[33;43m\"\u001b[39;49m\u001b[43m,\u001b[49m\u001b[43m \u001b[49m\u001b[33;43m\"\u001b[39;49m\u001b[33;43mstrict\u001b[39;49m\u001b[33;43m\"\u001b[39;49m\u001b[43m)\u001b[49m\u001b[43m,\u001b[49m\n\u001b[32m   1888\u001b[39m \u001b[43m    \u001b[49m\u001b[43mstorage_options\u001b[49m\u001b[43m=\u001b[49m\u001b[38;5;28;43mself\u001b[39;49m\u001b[43m.\u001b[49m\u001b[43moptions\u001b[49m\u001b[43m.\u001b[49m\u001b[43mget\u001b[49m\u001b[43m(\u001b[49m\u001b[33;43m\"\u001b[39;49m\u001b[33;43mstorage_options\u001b[39;49m\u001b[33;43m\"\u001b[39;49m\u001b[43m,\u001b[49m\u001b[43m \u001b[49m\u001b[38;5;28;43;01mNone\u001b[39;49;00m\u001b[43m)\u001b[49m\u001b[43m,\u001b[49m\n\u001b[32m   1889\u001b[39m \u001b[43m\u001b[49m\u001b[43m)\u001b[49m\n\u001b[32m   1890\u001b[39m \u001b[38;5;28;01massert\u001b[39;00m \u001b[38;5;28mself\u001b[39m.handles \u001b[38;5;129;01mis\u001b[39;00m \u001b[38;5;129;01mnot\u001b[39;00m \u001b[38;5;28;01mNone\u001b[39;00m\n\u001b[32m   1891\u001b[39m f = \u001b[38;5;28mself\u001b[39m.handles.handle\n",
      "\u001b[36mFile \u001b[39m\u001b[32m~/Documents/DA_prereq_Justin_Masters/Notebooks/Age_and_Endurance/env/lib/python3.13/site-packages/pandas/io/common.py:873\u001b[39m, in \u001b[36mget_handle\u001b[39m\u001b[34m(path_or_buf, mode, encoding, compression, memory_map, is_text, errors, storage_options)\u001b[39m\n\u001b[32m    868\u001b[39m \u001b[38;5;28;01melif\u001b[39;00m \u001b[38;5;28misinstance\u001b[39m(handle, \u001b[38;5;28mstr\u001b[39m):\n\u001b[32m    869\u001b[39m     \u001b[38;5;66;03m# Check whether the filename is to be opened in binary mode.\u001b[39;00m\n\u001b[32m    870\u001b[39m     \u001b[38;5;66;03m# Binary mode does not support 'encoding' and 'newline'.\u001b[39;00m\n\u001b[32m    871\u001b[39m     \u001b[38;5;28;01mif\u001b[39;00m ioargs.encoding \u001b[38;5;129;01mand\u001b[39;00m \u001b[33m\"\u001b[39m\u001b[33mb\u001b[39m\u001b[33m\"\u001b[39m \u001b[38;5;129;01mnot\u001b[39;00m \u001b[38;5;129;01min\u001b[39;00m ioargs.mode:\n\u001b[32m    872\u001b[39m         \u001b[38;5;66;03m# Encoding\u001b[39;00m\n\u001b[32m--> \u001b[39m\u001b[32m873\u001b[39m         handle = \u001b[38;5;28;43mopen\u001b[39;49m\u001b[43m(\u001b[49m\n\u001b[32m    874\u001b[39m \u001b[43m            \u001b[49m\u001b[43mhandle\u001b[49m\u001b[43m,\u001b[49m\n\u001b[32m    875\u001b[39m \u001b[43m            \u001b[49m\u001b[43mioargs\u001b[49m\u001b[43m.\u001b[49m\u001b[43mmode\u001b[49m\u001b[43m,\u001b[49m\n\u001b[32m    876\u001b[39m \u001b[43m            \u001b[49m\u001b[43mencoding\u001b[49m\u001b[43m=\u001b[49m\u001b[43mioargs\u001b[49m\u001b[43m.\u001b[49m\u001b[43mencoding\u001b[49m\u001b[43m,\u001b[49m\n\u001b[32m    877\u001b[39m \u001b[43m            \u001b[49m\u001b[43merrors\u001b[49m\u001b[43m=\u001b[49m\u001b[43merrors\u001b[49m\u001b[43m,\u001b[49m\n\u001b[32m    878\u001b[39m \u001b[43m            \u001b[49m\u001b[43mnewline\u001b[49m\u001b[43m=\u001b[49m\u001b[33;43m\"\u001b[39;49m\u001b[33;43m\"\u001b[39;49m\u001b[43m,\u001b[49m\n\u001b[32m    879\u001b[39m \u001b[43m        \u001b[49m\u001b[43m)\u001b[49m\n\u001b[32m    880\u001b[39m     \u001b[38;5;28;01melse\u001b[39;00m:\n\u001b[32m    881\u001b[39m         \u001b[38;5;66;03m# Binary mode\u001b[39;00m\n\u001b[32m    882\u001b[39m         handle = \u001b[38;5;28mopen\u001b[39m(handle, ioargs.mode)\n",
      "\u001b[31mFileNotFoundError\u001b[39m: [Errno 2] No such file or directory: '/Users/justinmasters/Documents/DA_prereq_Justin_Masters/Notebooks/Age_and_Endurance/Data/TWO_CENTURIES_OF_UM_RACES.csv'"
     ]
    }
   ],
   "source": [
    "# Import new csv\n",
    "\n",
    "um_df = pd.read_csv(\"/Users/justinmasters/Documents/DA_prereq_Justin_Masters/Notebooks/Age_and_Endurance/Data/TWO_CENTURIES_OF_UM_RACES.csv\")\n",
    "um_df.head()"
   ]
  },
  {
   "cell_type": "code",
   "execution_count": null,
   "id": "4ec57c4a",
   "metadata": {},
   "outputs": [
    {
     "name": "stdout",
     "output_type": "stream",
     "text": [
      "<class 'pandas.core.frame.DataFrame'>\n",
      "RangeIndex: 7461195 entries, 0 to 7461194\n",
      "Data columns (total 13 columns):\n",
      " #   Column                     Dtype  \n",
      "---  ------                     -----  \n",
      " 0   Year of event              int64  \n",
      " 1   Event dates                object \n",
      " 2   Event name                 object \n",
      " 3   Event distance/length      object \n",
      " 4   Event number of finishers  int64  \n",
      " 5   Athlete performance        object \n",
      " 6   Athlete club               object \n",
      " 7   Athlete country            object \n",
      " 8   Athlete year of birth      float64\n",
      " 9   Athlete gender             object \n",
      " 10  Athlete age category       object \n",
      " 11  Athlete average speed      object \n",
      " 12  Athlete ID                 int64  \n",
      "dtypes: float64(1), int64(3), object(9)\n",
      "memory usage: 740.0+ MB\n"
     ]
    }
   ],
   "source": [
    "um_df.info()"
   ]
  },
  {
   "cell_type": "code",
   "execution_count": null,
   "id": "2493226c",
   "metadata": {},
   "outputs": [
    {
     "name": "stdout",
     "output_type": "stream",
     "text": [
      "0          2018\n",
      "1          2018\n",
      "2          2018\n",
      "3          2018\n",
      "4          2018\n",
      "           ... \n",
      "7461190    1995\n",
      "7461191    1995\n",
      "7461192    1995\n",
      "7461193    1995\n",
      "7461194    1995\n",
      "Name: Year of event, Length: 7461195, dtype: int64\n"
     ]
    }
   ],
   "source": [
    "print(um_df['Year of event'])"
   ]
  },
  {
   "cell_type": "code",
   "execution_count": null,
   "id": "817425b7",
   "metadata": {},
   "outputs": [
    {
     "data": {
      "text/html": [
       "<div>\n",
       "<style scoped>\n",
       "    .dataframe tbody tr th:only-of-type {\n",
       "        vertical-align: middle;\n",
       "    }\n",
       "\n",
       "    .dataframe tbody tr th {\n",
       "        vertical-align: top;\n",
       "    }\n",
       "\n",
       "    .dataframe thead th {\n",
       "        text-align: right;\n",
       "    }\n",
       "</style>\n",
       "<table border=\"1\" class=\"dataframe\">\n",
       "  <thead>\n",
       "    <tr style=\"text-align: right;\">\n",
       "      <th></th>\n",
       "      <th>Year of event</th>\n",
       "      <th>Event dates</th>\n",
       "      <th>Event name</th>\n",
       "      <th>Event distance/length</th>\n",
       "      <th>Event number of finishers</th>\n",
       "      <th>Athlete performance</th>\n",
       "      <th>Athlete club</th>\n",
       "      <th>Athlete country</th>\n",
       "      <th>Athlete year of birth</th>\n",
       "      <th>Athlete gender</th>\n",
       "      <th>Athlete age category</th>\n",
       "      <th>Athlete average speed</th>\n",
       "      <th>Athlete ID</th>\n",
       "    </tr>\n",
       "  </thead>\n",
       "  <tbody>\n",
       "    <tr>\n",
       "      <th>0</th>\n",
       "      <td>2018</td>\n",
       "      <td>06.01.2018</td>\n",
       "      <td>Selva Costera (CHI)</td>\n",
       "      <td>50km</td>\n",
       "      <td>22</td>\n",
       "      <td>4:51:39 h</td>\n",
       "      <td>Tnfrc</td>\n",
       "      <td>CHI</td>\n",
       "      <td>1978.0</td>\n",
       "      <td>M</td>\n",
       "      <td>M35</td>\n",
       "      <td>10.286</td>\n",
       "      <td>0</td>\n",
       "    </tr>\n",
       "    <tr>\n",
       "      <th>1</th>\n",
       "      <td>2018</td>\n",
       "      <td>06.01.2018</td>\n",
       "      <td>Selva Costera (CHI)</td>\n",
       "      <td>50km</td>\n",
       "      <td>22</td>\n",
       "      <td>5:15:45 h</td>\n",
       "      <td>Roberto Echeverría</td>\n",
       "      <td>CHI</td>\n",
       "      <td>1981.0</td>\n",
       "      <td>M</td>\n",
       "      <td>M35</td>\n",
       "      <td>9.501</td>\n",
       "      <td>1</td>\n",
       "    </tr>\n",
       "    <tr>\n",
       "      <th>2</th>\n",
       "      <td>2018</td>\n",
       "      <td>06.01.2018</td>\n",
       "      <td>Selva Costera (CHI)</td>\n",
       "      <td>50km</td>\n",
       "      <td>22</td>\n",
       "      <td>5:16:44 h</td>\n",
       "      <td>Puro Trail Osorno</td>\n",
       "      <td>CHI</td>\n",
       "      <td>1987.0</td>\n",
       "      <td>M</td>\n",
       "      <td>M23</td>\n",
       "      <td>9.472</td>\n",
       "      <td>2</td>\n",
       "    </tr>\n",
       "    <tr>\n",
       "      <th>3</th>\n",
       "      <td>2018</td>\n",
       "      <td>06.01.2018</td>\n",
       "      <td>Selva Costera (CHI)</td>\n",
       "      <td>50km</td>\n",
       "      <td>22</td>\n",
       "      <td>5:34:13 h</td>\n",
       "      <td>Columbia</td>\n",
       "      <td>ARG</td>\n",
       "      <td>1976.0</td>\n",
       "      <td>M</td>\n",
       "      <td>M40</td>\n",
       "      <td>8.976</td>\n",
       "      <td>3</td>\n",
       "    </tr>\n",
       "    <tr>\n",
       "      <th>4</th>\n",
       "      <td>2018</td>\n",
       "      <td>06.01.2018</td>\n",
       "      <td>Selva Costera (CHI)</td>\n",
       "      <td>50km</td>\n",
       "      <td>22</td>\n",
       "      <td>5:54:14 h</td>\n",
       "      <td>Baguales Trail</td>\n",
       "      <td>CHI</td>\n",
       "      <td>1992.0</td>\n",
       "      <td>M</td>\n",
       "      <td>M23</td>\n",
       "      <td>8.469</td>\n",
       "      <td>4</td>\n",
       "    </tr>\n",
       "    <tr>\n",
       "      <th>...</th>\n",
       "      <td>...</td>\n",
       "      <td>...</td>\n",
       "      <td>...</td>\n",
       "      <td>...</td>\n",
       "      <td>...</td>\n",
       "      <td>...</td>\n",
       "      <td>...</td>\n",
       "      <td>...</td>\n",
       "      <td>...</td>\n",
       "      <td>...</td>\n",
       "      <td>...</td>\n",
       "      <td>...</td>\n",
       "      <td>...</td>\n",
       "    </tr>\n",
       "    <tr>\n",
       "      <th>3609801</th>\n",
       "      <td>2022</td>\n",
       "      <td>16.10.2022</td>\n",
       "      <td>Tussey Mountainback 50 Miler (USA)</td>\n",
       "      <td>50mi</td>\n",
       "      <td>35</td>\n",
       "      <td>11:16:08 h</td>\n",
       "      <td>*Peachtree City, GA</td>\n",
       "      <td>USA</td>\n",
       "      <td>1968.0</td>\n",
       "      <td>M</td>\n",
       "      <td>M50</td>\n",
       "      <td>7.141</td>\n",
       "      <td>1044739</td>\n",
       "    </tr>\n",
       "    <tr>\n",
       "      <th>3609802</th>\n",
       "      <td>2022</td>\n",
       "      <td>16.10.2022</td>\n",
       "      <td>Tussey Mountainback 50 Miler (USA)</td>\n",
       "      <td>50mi</td>\n",
       "      <td>35</td>\n",
       "      <td>11:27:05 h</td>\n",
       "      <td>*Newport, PA</td>\n",
       "      <td>USA</td>\n",
       "      <td>1959.0</td>\n",
       "      <td>M</td>\n",
       "      <td>M60</td>\n",
       "      <td>7.027</td>\n",
       "      <td>50971</td>\n",
       "    </tr>\n",
       "    <tr>\n",
       "      <th>3609803</th>\n",
       "      <td>2022</td>\n",
       "      <td>16.10.2022</td>\n",
       "      <td>Tussey Mountainback 50 Miler (USA)</td>\n",
       "      <td>50mi</td>\n",
       "      <td>35</td>\n",
       "      <td>11:46:34 h</td>\n",
       "      <td>*Flemington, NJ</td>\n",
       "      <td>USA</td>\n",
       "      <td>1955.0</td>\n",
       "      <td>F</td>\n",
       "      <td>W65</td>\n",
       "      <td>6.833</td>\n",
       "      <td>73152</td>\n",
       "    </tr>\n",
       "    <tr>\n",
       "      <th>3609804</th>\n",
       "      <td>2022</td>\n",
       "      <td>16.10.2022</td>\n",
       "      <td>Tussey Mountainback 50 Miler (USA)</td>\n",
       "      <td>50mi</td>\n",
       "      <td>35</td>\n",
       "      <td>11:55:29 h</td>\n",
       "      <td>*Arlington, VA</td>\n",
       "      <td>USA</td>\n",
       "      <td>1965.0</td>\n",
       "      <td>M</td>\n",
       "      <td>M55</td>\n",
       "      <td>6.748</td>\n",
       "      <td>970133</td>\n",
       "    </tr>\n",
       "    <tr>\n",
       "      <th>3609805</th>\n",
       "      <td>2022</td>\n",
       "      <td>16.10.2022</td>\n",
       "      <td>Tussey Mountainback 50 Miler (USA)</td>\n",
       "      <td>50mi</td>\n",
       "      <td>35</td>\n",
       "      <td>12:14:15 h</td>\n",
       "      <td>*Johnstown, PA</td>\n",
       "      <td>USA</td>\n",
       "      <td>1981.0</td>\n",
       "      <td>F</td>\n",
       "      <td>W40</td>\n",
       "      <td>6.575</td>\n",
       "      <td>723380</td>\n",
       "    </tr>\n",
       "  </tbody>\n",
       "</table>\n",
       "<p>3609806 rows × 13 columns</p>\n",
       "</div>"
      ],
      "text/plain": [
       "         Year of event Event dates                          Event name  \\\n",
       "0                 2018  06.01.2018                 Selva Costera (CHI)   \n",
       "1                 2018  06.01.2018                 Selva Costera (CHI)   \n",
       "2                 2018  06.01.2018                 Selva Costera (CHI)   \n",
       "3                 2018  06.01.2018                 Selva Costera (CHI)   \n",
       "4                 2018  06.01.2018                 Selva Costera (CHI)   \n",
       "...                ...         ...                                 ...   \n",
       "3609801           2022  16.10.2022  Tussey Mountainback 50 Miler (USA)   \n",
       "3609802           2022  16.10.2022  Tussey Mountainback 50 Miler (USA)   \n",
       "3609803           2022  16.10.2022  Tussey Mountainback 50 Miler (USA)   \n",
       "3609804           2022  16.10.2022  Tussey Mountainback 50 Miler (USA)   \n",
       "3609805           2022  16.10.2022  Tussey Mountainback 50 Miler (USA)   \n",
       "\n",
       "        Event distance/length  Event number of finishers Athlete performance  \\\n",
       "0                        50km                         22           4:51:39 h   \n",
       "1                        50km                         22           5:15:45 h   \n",
       "2                        50km                         22           5:16:44 h   \n",
       "3                        50km                         22           5:34:13 h   \n",
       "4                        50km                         22           5:54:14 h   \n",
       "...                       ...                        ...                 ...   \n",
       "3609801                  50mi                         35          11:16:08 h   \n",
       "3609802                  50mi                         35          11:27:05 h   \n",
       "3609803                  50mi                         35          11:46:34 h   \n",
       "3609804                  50mi                         35          11:55:29 h   \n",
       "3609805                  50mi                         35          12:14:15 h   \n",
       "\n",
       "                Athlete club Athlete country  Athlete year of birth  \\\n",
       "0                      Tnfrc             CHI                 1978.0   \n",
       "1         Roberto Echeverría             CHI                 1981.0   \n",
       "2          Puro Trail Osorno             CHI                 1987.0   \n",
       "3                   Columbia             ARG                 1976.0   \n",
       "4             Baguales Trail             CHI                 1992.0   \n",
       "...                      ...             ...                    ...   \n",
       "3609801  *Peachtree City, GA             USA                 1968.0   \n",
       "3609802         *Newport, PA             USA                 1959.0   \n",
       "3609803      *Flemington, NJ             USA                 1955.0   \n",
       "3609804       *Arlington, VA             USA                 1965.0   \n",
       "3609805       *Johnstown, PA             USA                 1981.0   \n",
       "\n",
       "        Athlete gender Athlete age category Athlete average speed  Athlete ID  \n",
       "0                    M                  M35                10.286           0  \n",
       "1                    M                  M35                 9.501           1  \n",
       "2                    M                  M23                 9.472           2  \n",
       "3                    M                  M40                 8.976           3  \n",
       "4                    M                  M23                 8.469           4  \n",
       "...                ...                  ...                   ...         ...  \n",
       "3609801              M                  M50                 7.141     1044739  \n",
       "3609802              M                  M60                 7.027       50971  \n",
       "3609803              F                  W65                 6.833       73152  \n",
       "3609804              M                  M55                 6.748      970133  \n",
       "3609805              F                  W40                 6.575      723380  \n",
       "\n",
       "[3609806 rows x 13 columns]"
      ]
     },
     "execution_count": 368,
     "metadata": {},
     "output_type": "execute_result"
    }
   ],
   "source": [
    "um_df = um_df[um_df['Year of event'] >= 2016]\n",
    "um_df"
   ]
  },
  {
   "cell_type": "code",
   "execution_count": null,
   "id": "f27e8aac",
   "metadata": {},
   "outputs": [
    {
     "name": "stdout",
     "output_type": "stream",
     "text": [
      "<class 'pandas.core.frame.DataFrame'>\n",
      "Index: 3609806 entries, 0 to 3609805\n",
      "Data columns (total 13 columns):\n",
      " #   Column                     Dtype  \n",
      "---  ------                     -----  \n",
      " 0   Year of event              int64  \n",
      " 1   Event dates                object \n",
      " 2   Event name                 object \n",
      " 3   Event distance/length      object \n",
      " 4   Event number of finishers  int64  \n",
      " 5   Athlete performance        object \n",
      " 6   Athlete club               object \n",
      " 7   Athlete country            object \n",
      " 8   Athlete year of birth      float64\n",
      " 9   Athlete gender             object \n",
      " 10  Athlete age category       object \n",
      " 11  Athlete average speed      object \n",
      " 12  Athlete ID                 int64  \n",
      "dtypes: float64(1), int64(3), object(9)\n",
      "memory usage: 385.6+ MB\n"
     ]
    }
   ],
   "source": [
    "um_df.info()"
   ]
  },
  {
   "cell_type": "code",
   "execution_count": null,
   "id": "e106304f",
   "metadata": {},
   "outputs": [
    {
     "data": {
      "text/plain": [
       "(3609806, 13)"
      ]
     },
     "execution_count": 370,
     "metadata": {},
     "output_type": "execute_result"
    }
   ],
   "source": [
    "um_df.shape"
   ]
  },
  {
   "cell_type": "markdown",
   "id": "26391b04",
   "metadata": {},
   "source": [
    "Utilized ChatGPT to as a learning tool to debug and explain the \"why\""
   ]
  },
  {
   "cell_type": "markdown",
   "id": "ab4f33f8",
   "metadata": {},
   "source": [
    "Final Thoughts Bullet points "
   ]
  },
  {
   "cell_type": "markdown",
   "id": "2c9257da",
   "metadata": {},
   "source": [
    "Use possible Choropleth in final with Ultra Marathon data and country of athlete or if home country of athlete age varies"
   ]
  }
 ],
 "metadata": {
  "kernelspec": {
   "display_name": "Python 3",
   "language": "python",
   "name": "python3"
  },
  "language_info": {
   "codemirror_mode": {
    "name": "ipython",
    "version": 3
   },
   "file_extension": ".py",
   "mimetype": "text/x-python",
   "name": "python",
   "nbconvert_exporter": "python",
   "pygments_lexer": "ipython3",
   "version": "3.13.4"
  }
 },
 "nbformat": 4,
 "nbformat_minor": 5
}
